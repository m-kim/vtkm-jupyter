{
 "cells": [
  {
   "cell_type": "code",
   "execution_count": 1,
   "metadata": {},
   "outputs": [],
   "source": [
    "#include <lodepng_config_cling.h>\n",
    "#include <vtkm_config_cling.h>\n",
    "#pragma cling add_include_path(\"/home/ybk/Projects/vtkm-uflic/\")\n",
    "\n"
   ]
  },
  {
   "cell_type": "code",
   "execution_count": 2,
   "metadata": {},
   "outputs": [],
   "source": [
    "#include <vtkm/cont/DeviceAdapter.h>\n",
    "#include <vtkm/cont/testing/MakeTestDataSet.h>\n",
    "#include <vtkm/cont/testing/Testing.h>\n",
    "#include <vtkm/rendering/Actor.h>\n",
    "#include <vtkm/rendering/Mapper.h>\n",
    "#include <vtkm/rendering/Scene.h>\n",
    "#include <vtkm/rendering/View3D.h>\n",
    "#include <vtkm/cont/ColorTable.h>\n",
    "#include <vtkm/rendering/testing/RenderTest.h>\n",
    "#include <vtkm/io/reader/VTKDataSetReader.h>\n",
    "#include <vtkm/cont/internal/IteratorFromArrayPortal.h>\n",
    "#include <vtkm/cont/ArrayPortalToIterators.h>\n",
    "#include <vtkm/cont/DynamicArrayHandle.h>\n",
    "#include <vtkm/cont/ArrayCopy.h>\n",
    "#include <vtkm/worklet/Normalize.h>\n",
    "#include <vtkm/worklet/DispatcherMapField.h>\n",
    "#include \"Reader.h\"\n",
    "#include \"UFLIC.h\"\n",
    "\n",
    "\n"
   ]
  },
  {
   "cell_type": "markdown",
   "metadata": {},
   "source": [
    "Use lodepng to save out png instead of pnm so jupyter can read it.\n"
   ]
  },
  {
   "cell_type": "code",
   "execution_count": 3,
   "metadata": {
    "scrolled": false
   },
   "outputs": [],
   "source": [
    "#include <VTKmXeusRender.h>\n",
    "#include <VTKmXeusConvertPng.h>\n"
   ]
  },
  {
   "cell_type": "markdown",
   "metadata": {},
   "source": [
    "The default vtkm::rendering::View3D render both world space annotations (think bounding measuring box) and screen space annotations (think color bar). For screen space line integral convolution, we need to remove those."
   ]
  },
  {
   "cell_type": "code",
   "execution_count": 4,
   "metadata": {
    "scrolled": true
   },
   "outputs": [],
   "source": [
    "using VecType = vtkm::Float32;\n",
    "constexpr int Size = 2;\n",
    "using UFLICType = UFLIC<DoubleGyreField<VecType,Size>,VecType,Size>;\n",
    "VTKmXeusRender renderer;\n",
    "vtkm::Int32 x,y;\n",
    "x = 64; y = 32;\n",
    "std::shared_ptr<Reader<VecType, Size>> reader;\n",
    "reader = std::shared_ptr<ReaderCalc<VecType, Size>>(new ReaderCalc<VecType, Size>(\"XGC_\", vtkm::Id2(x,y), Bounds(0,x,0,y), vtkm::Vec<VecType,Size>(2,1), 12));\n",
    "\n",
    "UFLICType uflic;\n"
   ]
  },
  {
   "cell_type": "code",
   "execution_count": 5,
   "metadata": {},
   "outputs": [
    {
     "name": "stderr",
     "output_type": "stream",
     "text": [
      "\u001b[1minput_line_12:11:6: \u001b[0m\u001b[0;1;31merror: \u001b[0m\u001b[1mexpected ';' at end of declaration\u001b[0m\n",
      "    }\n",
      "\u001b[0;1;32m     ^\n",
      "\u001b[0m\u001b[0;32m     ;\n",
      "\u001b[0m\u001b[1minput_line_12:17:1: \u001b[0m\u001b[0;1;31merror: \u001b[0m\u001b[1muse of undeclared identifier 'try_and_err'\u001b[0m\n",
      "try_and_err();\n",
      "\u001b[0;1;32m^\n",
      "\u001b[0m\u001b[1minput_line_12:18:3: \u001b[0m\u001b[0;1;31merror: \u001b[0m\u001b[1mexpected unqualified-id\u001b[0m\n",
      "}();\n",
      "\u001b[0;1;32m  ^\n",
      "\u001b[0m\u001b[1minput_line_12:20:1: \u001b[0m\u001b[0;1;31merror: \u001b[0m\u001b[1mextraneous closing brace ('}')\u001b[0m\n",
      "}\n",
      "\u001b[0;1;32m^\n",
      "\u001b[0m"
     ]
    },
    {
     "ename": "Interpreter Error",
     "evalue": "",
     "output_type": "error",
     "traceback": [
      "Interpreter Error: "
     ]
    }
   ],
   "source": [
    "[&](){\n",
    "auto try_and_err = [&]() {\n",
    "\n",
    "    uflic.do_print = true;\n",
    "    auto render = [&](std::string name, auto array, vtkm::Id x, vtkm::Id y ){\n",
    "        renderer.Display(array, x,y);\n",
    "    };\n",
    "    uflic.callback = render;\n",
    "    uflic.run(std::shared_ptr(reader));\n",
    "\n",
    "    //vtkm::cont::ArrayHandle<vtkm::Vec<VecType,Size>> vec;\n",
    "    //vec.Allocate(x*y);\n",
    "    //reader->next(vec);\n",
    "    //uflic.saveQuiver(vtkm::Id2(x,y), vec);\n",
    "\n",
    "};\n",
    "try_and_err();\n",
    "}();"
   ]
  },
  {
   "cell_type": "code",
   "execution_count": null,
   "metadata": {},
   "outputs": [],
   "source": []
  },
  {
   "cell_type": "code",
   "execution_count": null,
   "metadata": {},
   "outputs": [],
   "source": [
    "\n"
   ]
  },
  {
   "cell_type": "code",
   "execution_count": null,
   "metadata": {},
   "outputs": [],
   "source": []
  },
  {
   "cell_type": "code",
   "execution_count": null,
   "metadata": {},
   "outputs": [],
   "source": []
  }
 ],
 "metadata": {
  "kernelspec": {
   "display_name": "C++17",
   "language": "C++17",
   "name": "xeus-cling-cpp17"
  },
  "language_info": {
   "codemirror_mode": "text/x-c++src",
   "file_extension": ".cpp",
   "mimetype": "text/x-c++src",
   "name": "c++",
   "version": "-std=c++17"
  }
 },
 "nbformat": 4,
 "nbformat_minor": 2
}
