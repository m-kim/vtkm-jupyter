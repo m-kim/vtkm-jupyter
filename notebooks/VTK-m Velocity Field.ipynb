{
 "cells": [
  {
   "cell_type": "code",
   "execution_count": 1,
   "metadata": {},
   "outputs": [],
   "source": [
    "//#pragma include_alias(\"/local/vtk-m/clang/include/vtkm-1.2/vtkm/thirdparty/taotuple/vtkmtaotuple/\",\"vtkmtaotuple\")\n",
    "#include <lodepng_config_cling.h>\n",
    "#pragma cling add_include_path(\"/home/mark/local/vtkm-master/include/vtkm-1.3/\")\n",
    "#pragma cling add_library_path(\"/home/mark/local/vtkm-master/lib/\")\n",
    "#pragma cling load(\"vtkm_cont-1.3\")\n",
    "#pragma cling load(\"vtkm_rendering-1.3\")"
   ]
  },
  {
   "cell_type": "code",
   "execution_count": 2,
   "metadata": {},
   "outputs": [],
   "source": [
    "#include <vtkm/cont/DeviceAdapter.h>\n",
    "#include <vtkm/cont/testing/MakeTestDataSet.h>\n",
    "#include <vtkm/cont/testing/Testing.h>\n",
    "#include <vtkm/rendering/Actor.h>\n",
    "#include <vtkm/rendering/Mapper.h>\n",
    "#include <vtkm/rendering/Scene.h>\n",
    "#include <vtkm/rendering/View3D.h>\n",
    "#include <vtkm/cont/ColorTable.h>\n",
    "#include <vtkm/rendering/testing/RenderTest.h>\n",
    "#include <vtkm/io/reader/VTKDataSetReader.h>\n",
    "#include <vtkm/cont/internal/IteratorFromArrayPortal.h>\n",
    "#include <vtkm/cont/ArrayPortalToIterators.h>\n",
    "#include <vtkm/cont/DynamicArrayHandle.h>\n",
    "#include <vtkm/cont/ArrayCopy.h>\n",
    "\n",
    "#include \"Reader.h\"\n",
    "#include \"UFLIC.h\"\n",
    "#include \"CanvasUFLIC.h\"\n",
    "#include \"ViewUFLIC.h\"\n",
    "#include \"MapperUFLIC.h\""
   ]
  },
  {
   "cell_type": "code",
   "execution_count": null,
   "metadata": {},
   "outputs": [],
   "source": [
    "\n"
   ]
  },
  {
   "cell_type": "code",
   "execution_count": null,
   "metadata": {},
   "outputs": [],
   "source": [
    "\n",
    "\n"
   ]
  },
  {
   "cell_type": "code",
   "execution_count": 3,
   "metadata": {},
   "outputs": [],
   "source": [
    "template <typename VecType, vtkm::Id Size>\n",
    "class ReaderScreenSpace : public Reader<VecType, Size>\n",
    "{\n",
    "public:\n",
    "  using ColorBufferType = vtkm::cont::ArrayHandle<vtkm::Vec<vtkm::Float32, 4>>;\n",
    "  using EvalType = VectorField<VecType>;\n",
    "\n",
    "  using ArrayType = vtkm::cont::ArrayHandle<vtkm::Vec<VecType, Size>>;\n",
    "  \n",
    "  ReaderScreenSpace(vtkm::rendering::Canvas& _canvas)\n",
    "    : Reader<VecType, Size>(\"\",\n",
    "                            vtkm::Id2(_canvas.GetWidth(),_canvas.GetHeight()),\n",
    "                            Bounds(0, _canvas.GetWidth(), 0, _canvas.GetWidth()),\n",
    "                            vtkm::Vec<VecType, Size>(1,1),\n",
    "                            1\n",
    "                            )\n",
    "    ,canvas(_canvas)\n",
    "  {\n",
    "      std::cout << this->dim << std::endl;\n",
    "  }\n",
    "  void readFile()\n",
    "  {\n",
    "  \n",
    "    this->ah.Allocate(canvas.GetColorBuffer().GetNumberOfValues());\n",
    "    std::cout << this->ah.GetNumberOfValues() << std::endl;\n",
    "    parse(this->ah);\n",
    "\n",
    "  }\n",
    "\n",
    "  void next(ArrayType  &in)\n",
    "  {\n",
    "    in = this->ah;\n",
    "  }\n",
    "\n",
    "  void parse(ArrayType in)\n",
    "  {\n",
    "    ColorBufferType::PortalConstControl colorPortal = canvas.GetColorBuffer().GetPortalConstControl();\n",
    "    std::cout << this->dim << std::endl;  \n",
    "    for (int y=0; y<this->dim[1]; y++){\n",
    "        for (int x=0; x<this->dim[0]; x++){\n",
    "            int idx = y*this->dim[0] + x;\n",
    "              auto vec  = colorPortal.Get(idx);\n",
    "              in.GetPortalControl().Set(idx, vtkm::Vec<vtkm::Float32, 2>(vec[0],vec[1]));        \n",
    "        }\n",
    "        \n",
    "    }\n",
    "    }\n",
    "    vtkm::rendering::Canvas canvas;\n",
    "    ArrayType ah;\n",
    "};\n"
   ]
  },
  {
   "cell_type": "code",
   "execution_count": 4,
   "metadata": {},
   "outputs": [],
   "source": [
    " \n",
    "vtkm::cont::ArrayHandle<int> runUFLIC(vtkm::rendering::Canvas &canvas)\n",
    "{\n",
    "    const int Size = 2;\n",
    "    using VecType = vtkm::Float32;\n",
    "    using ReaderType = ReaderScreenSpace<VecType, Size>;\n",
    "\n",
    "    auto reader = std::shared_ptr<ReaderType>(new ReaderType(canvas));\n",
    "    UFLIC<VectorField<VecType,Size>,VecType,Size> uflic;\n",
    "    uflic.do_print = true;\n",
    "    uflic.run(reader);\n",
    "    return uflic.result;\n",
    "\n",
    "};\n"
   ]
  },
  {
   "cell_type": "markdown",
   "metadata": {},
   "source": [
    "Use lodepng to save out png instead of pnm so jupyter can read it.\n"
   ]
  },
  {
   "cell_type": "code",
   "execution_count": 5,
   "metadata": {},
   "outputs": [],
   "source": [
    "#include <lodepng.h>\n",
    "template<typename CanvasType>\n",
    "void convertPng(CanvasType &canvas, std::vector<std::uint8_t> &ImageBuffer)\n",
    "{\n",
    "    int width = canvas.GetWidth();\n",
    "    int height = canvas.GetHeight();\n",
    "  std::vector<std::uint8_t> PngBuffer(width*height*4);\n",
    "\n",
    "  using ColorBufferType = vtkm::cont::ArrayHandle<vtkm::Vec<vtkm::Float32, 4>>;\n",
    "\n",
    "  ColorBufferType::PortalConstControl colorPortal = canvas.GetColorBuffer().GetPortalConstControl();\n",
    "\n",
    "  for (vtkm::Id yIndex = 0; yIndex < height; yIndex++)\n",
    "  {\n",
    "    for (vtkm::Id xIndex = 0; xIndex < width; xIndex++)\n",
    "    {\n",
    "      vtkm::Vec<vtkm::Float32, 4> tuple = colorPortal.Get(yIndex * width + xIndex);\n",
    "      //of << (unsigned char)(tuple[0] * 255);\n",
    "      //of << (unsigned char)(tuple[1] * 255);\n",
    "      //of << (unsigned char)(tuple[2] * 255);\n",
    "        \n",
    "        std::size_t NewPos = (height - yIndex - 1) * (width * 4) + 4 * xIndex;\n",
    "        PngBuffer[NewPos + 0] = (unsigned char)(tuple[0] * 255);\n",
    "        PngBuffer[NewPos + 1] = (unsigned char)(tuple[1] * 255);\n",
    "        PngBuffer[NewPos + 2] = (unsigned char)(tuple[2] * 255);\n",
    "        PngBuffer[NewPos + 3] = 255; \n",
    "\n",
    "    }\n",
    "  }\n",
    "  lodepng::encode(ImageBuffer, PngBuffer, width, height);\n",
    "//lodepng::save_file(ImageBuffer, fn.c_str());    \n",
    "}\n",
    "\n"
   ]
  },
  {
   "cell_type": "code",
   "execution_count": 6,
   "metadata": {},
   "outputs": [],
   "source": [
    "#include <string>\n",
    "#include <fstream>\n",
    "\n",
    "#include \"xtl/xbase64.hpp\"\n",
    "#include \"nlohmann/json.hpp\"\n",
    "\n",
    "namespace im\n",
    "{\n",
    "    struct image\n",
    "    {\n",
    "        inline image(){}\n",
    "        inline image(const std::vector<uint8_t> &png)\n",
    "        {\n",
    "            m_buffer.assign(png.begin(), png.end());\n",
    "        }\n",
    "\n",
    "        std::string m_buffer;\n",
    "    };\n",
    "\n",
    "    nlohmann::json mime_bundle_repr(const image& i)\n",
    "    {\n",
    "        auto bundle = nlohmann::json::object();\n",
    "        bundle[\"image/png\"] = xtl::base64encode(i.m_buffer);\n",
    "        return bundle;\n",
    "    }\n",
    "}\n",
    "\n",
    "std::unique_ptr<im::image> displayImage = std::unique_ptr<im::image>();\n"
   ]
  },
  {
   "cell_type": "markdown",
   "metadata": {},
   "source": [
    "The default vtkm::rendering::View3D render both world space annotations (think bounding measuring box) and screen space annotations (think color bar). For screen space line integral convolution, we need to remove those."
   ]
  },
  {
   "cell_type": "code",
   "execution_count": null,
   "metadata": {},
   "outputs": [],
   "source": []
  },
  {
   "cell_type": "code",
   "execution_count": 7,
   "metadata": {},
   "outputs": [],
   "source": [
    "inline void SetCamera(vtkm::rendering::Camera& camera,\n",
    "                      const vtkm::Bounds& coordBounds)\n",
    "{\n",
    "  camera = vtkm::rendering::Camera();\n",
    "  camera.ResetToBounds(coordBounds);\n",
    "  camera.Azimuth(static_cast<vtkm::Float32>(45.0));\n",
    "  camera.Elevation(static_cast<vtkm::Float32>(45.0));\n",
    "};\n",
    "\n"
   ]
  },
  {
   "cell_type": "code",
   "execution_count": 8,
   "metadata": {},
   "outputs": [],
   "source": [
    "void Render(ViewUFLIC& view)\n",
    "{\n",
    "  view.Initialize();\n",
    "  view.Paint();\n",
    "};\n"
   ]
  },
  {
   "cell_type": "code",
   "execution_count": 9,
   "metadata": {},
   "outputs": [],
   "source": [
    "inline vtkm::cont::DataSet readVTKDataSet(const char* fname)\n",
    "{\n",
    "  vtkm::cont::DataSet ds;\n",
    "  vtkm::io::reader::VTKDataSetReader reader(fname);\n",
    "  try\n",
    "  {\n",
    "    ds = reader.ReadDataSet();\n",
    "  }\n",
    "  catch (vtkm::io::ErrorIO& e)\n",
    "  {\n",
    "    std::string message(\"Error reading: \");\n",
    "    message += fname;\n",
    "    message += \", \";\n",
    "    message += e.GetMessage();\n",
    "\n",
    "    VTKM_TEST_FAIL(message.c_str());\n",
    "  }\n",
    "\n",
    "  return ds;\n",
    "}"
   ]
  },
  {
   "cell_type": "code",
   "execution_count": 10,
   "metadata": {},
   "outputs": [],
   "source": [
    "void addField(vtkm::cont::DataSet &ds){\n",
    "    auto cnt = ds.GetField(0).GetData().GetNumberOfValues();\n",
    "    vtkm::cont::DataSetFieldAdd dsf;\n",
    "    std::vector<vtkm::Float32> vars(cnt);\n",
    "    for (int i=0; i<cnt ;i++){\n",
    "        vars[i] = i/vtkm::Float32(cnt);\n",
    "    }\n",
    "        \n",
    "    \n",
    "    dsf.AddPointField(ds, \"pointvar\", vars);\n",
    "\n",
    "};"
   ]
  },
  {
   "cell_type": "code",
   "execution_count": 11,
   "metadata": {},
   "outputs": [],
   "source": [
    "vtkm::cont::ColorTable buildColorTableFromArray(const vtkm::cont::DynamicArrayHandle &_h){\n",
    "    \n",
    "    auto handle = _h.Cast<vtkm::cont::ArrayHandle<vtkm::Vec<vtkm::Float32,3>>>();\n",
    "    std::vector<double> out(_h.GetNumberOfValues()*4);\n",
    "    for (int i=0; i<handle.GetNumberOfValues(); i++){\n",
    "        auto tmp = handle.GetPortalConstControl().Get(i);\n",
    "        out[i*4] = tmp[0];\n",
    "        out[i*4+1] = tmp[1];\n",
    "        out[i*4+2] = tmp[2];\n",
    "        out[i*4+3] = 0.0;\n",
    "        if (i == 0)\n",
    "            std::cout << handle.GetPortalConstControl().Get(i) << std::endl;\n",
    "    }\n",
    "\n",
    "    std::string name = \"inplace\";\n",
    "    vtkm::Vec<double,3> nanIs(0,0,0);\n",
    "     return vtkm::cont::ColorTable(name, vtkm::cont::ColorSpace::LAB, nanIs, \n",
    "                              out);\n",
    "    \n",
    "};"
   ]
  },
  {
   "cell_type": "code",
   "execution_count": 12,
   "metadata": {
    "scrolled": false
   },
   "outputs": [
    {
     "name": "stdout",
     "output_type": "stream",
     "text": [
      "CanvasUFLIC\n",
      "[113.504,29.2415,-40.6343]\n",
      "{ X:[0.0987893..1.63144], Y:[0.027149..0.34988], Z:[0.0131184..0.379522] }\n",
      "writetocanvas 1\n",
      "My write to canvas!\n"
     ]
    },
    {
     "data": {
      "image/png": "[encoded data removed]"
     },
     "metadata": {},
     "output_type": "display_data"
    },
    {
     "name": "stdout",
     "output_type": "stream",
     "text": [
      "[512,512]\n",
      "262144\n",
      "[512,512]\n",
      "Finished dt: 0.1 cnt: 1 time: 28.3224 s\n"
     ]
    },
    {
     "data": {
      "image/png": "[encoded data removed]"
     },
     "metadata": {},
     "output_type": "display_data"
    }
   ],
   "source": [
    "#include <xcpp/xdisplay.hpp>\n",
    "\n",
    "[=](){\n",
    "    auto try_and_err = [](){\n",
    "                using M = MapperUFLIC;\n",
    "using C = CanvasUFLIC;\n",
    "using V3 = ViewUFLIC;\n",
    "using V2 = vtkm::rendering::View2D;\n",
    "\n",
    "        M mapper;\n",
    "        mapper.SetShadingOn(false);\n",
    "const vtkm::Id2 dim(512,512);\n",
    "C canvas(dim[0],dim[1]);\n",
    "vtkm::rendering::Scene scene;\n",
    "auto ds = readVTKDataSet(\"edelta-velocity.vtk\");\n",
    " addField(ds);\n",
    " vtkm::cont::ColorTable colorTable = buildColorTableFromArray(ds.GetField(0).GetData());\n",
    " static std::string fieldNm = \"pointvar\";\n",
    "\n",
    "scene.AddActor(vtkm::rendering::Actor(\n",
    "ds.GetCellSet(), ds.GetCoordinateSystem(), ds.GetField(fieldNm), colorTable));\n",
    "vtkm::rendering::Camera camera;\n",
    "SetCamera(camera, ds.GetCoordinateSystem().GetBounds());\n",
    "    std::cout << ds.GetCoordinateSystem().GetBounds() << std::endl;\n",
    "vtkm::rendering::Color background(0.0f, 0.0f, 0.0f, 1.0f);\n",
    "vtkm::rendering::Color foreground(1.0f, 0.0f, 0.0f, 1.0f);\n",
    "V3 view(scene, mapper, canvas, camera, background, foreground);\n",
    "\n",
    "    Render(view);\n",
    "  std::vector<std::uint8_t> png;\n",
    "  convertPng(canvas, png);\n",
    "   \n",
    "     displayImage = std::make_unique<im::image>(png);\n",
    "         xcpp::display(*displayImage);\n",
    "        auto outArray = runUFLIC(canvas);\n",
    "        vtkm::rendering::Canvas canvasUFLIC(dim[0], dim[1]);\n",
    "        vtkm::cont::ArrayCopy(outArray, canvasUFLIC.GetColorBuffer());\n",
    "        std::vector<std::uint8_t> png_uflic;\n",
    "        convertPng(canvasUFLIC, png_uflic);\n",
    "        displayImage = std::make_unique<im::image>(png_uflic);\n",
    "        xcpp::display(*displayImage);\n",
    "    };\n",
    "    try_and_err();\n",
    "}()"
   ]
  },
  {
   "cell_type": "code",
   "execution_count": null,
   "metadata": {},
   "outputs": [],
   "source": []
  }
 ],
 "metadata": {
  "kernelspec": {
   "display_name": "C++17",
   "language": "C++17",
   "name": "xeus-cling-cpp17"
  },
  "language_info": {
   "codemirror_mode": "text/x-c++src",
   "file_extension": ".cpp",
   "mimetype": "text/x-c++src",
   "name": "c++",
   "version": "-std=c++17"
  }
 },
 "nbformat": 4,
 "nbformat_minor": 2
}
