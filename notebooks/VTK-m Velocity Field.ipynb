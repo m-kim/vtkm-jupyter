{
 "cells": [
  {
   "cell_type": "code",
   "execution_count": 1,
   "metadata": {},
   "outputs": [],
   "source": [
    "//#pragma include_alias(\"/local/vtk-m/clang/include/vtkm-1.2/vtkm/thirdparty/taotuple/vtkmtaotuple/\",\"vtkmtaotuple\")\n",
    "#include <lodepng_config_cling.h>\n",
    "#pragma cling add_include_path(\"/home/mark/local/vtkm-1.3/include/vtkm-1.3/\")\n",
    "#pragma cling add_include_path(\"/home/mark/Projects/vtkm-uflic/\")\n",
    "#pragma cling add_library_path(\"/home/mark/local/vtkm-1.3/lib/\")\n",
    "#pragma cling load(\"omp\")\n",
    "#pragma cling load(\"vtkm_cont-1.3\")\n",
    "#pragma cling load(\"vtkm_rendering-1.3\")\n",
    "\n"
   ]
  },
  {
   "cell_type": "code",
   "execution_count": 2,
   "metadata": {},
   "outputs": [],
   "source": [
    "#include <vtkm/cont/DeviceAdapter.h>\n",
    "#include <vtkm/cont/testing/MakeTestDataSet.h>\n",
    "#include <vtkm/cont/testing/Testing.h>\n",
    "#include <vtkm/rendering/Actor.h>\n",
    "#include <vtkm/rendering/Mapper.h>\n",
    "#include <vtkm/rendering/Scene.h>\n",
    "#include <vtkm/rendering/View3D.h>\n",
    "#include <vtkm/cont/ColorTable.h>\n",
    "#include <vtkm/rendering/testing/RenderTest.h>\n",
    "#include <vtkm/io/reader/VTKDataSetReader.h>\n",
    "#include <vtkm/cont/internal/IteratorFromArrayPortal.h>\n",
    "#include <vtkm/cont/ArrayPortalToIterators.h>\n",
    "#include <vtkm/cont/DynamicArrayHandle.h>\n",
    "#include <vtkm/cont/ArrayCopy.h>\n",
    "#include <vtkm/worklet/Normalize.h>\n",
    "#include <vtkm/worklet/DispatcherMapField.h>\n",
    "#include \"Reader.h\"\n",
    "#include \"UFLIC.h\"\n",
    "#include \"ViewUFLIC.h\"\n",
    "#include \"CanvasUFLIC.h\"\n",
    "#include \"MapperUFLIC.h\"\n",
    "#include \"ReaderUFLIC.h\"\n",
    "#include \"ScreenSpaceLIC.h\"\n",
    "\n",
    "\n"
   ]
  },
  {
   "cell_type": "markdown",
   "metadata": {},
   "source": [
    "Use lodepng to save out png instead of pnm so jupyter can read it.\n"
   ]
  },
  {
   "cell_type": "code",
   "execution_count": 3,
   "metadata": {},
   "outputs": [],
   "source": [
    "#include <lodepng.h>\n",
    "template<typename TupleType>\n",
    "void convertBuffer(std::vector<std::uint8_t> &PngBuffer,\n",
    "              int width,\n",
    "              int height,\n",
    "              int xIndex,\n",
    "              int yIndex,\n",
    "              TupleType &tuple\n",
    "             );\n",
    "template<>\n",
    "void convertBuffer(std::vector<std::uint8_t> &PngBuffer,\n",
    "              int width,\n",
    "              int height,\n",
    "              int xIndex,\n",
    "              int yIndex,\n",
    "              vtkm::Int32 &tuple\n",
    "             )\n",
    "{\n",
    "            std::size_t NewPos = (height - yIndex - 1) * (width * 4) + 4 * xIndex;\n",
    "        PngBuffer[NewPos + 0] = (unsigned char)(tuple);\n",
    "        PngBuffer[NewPos + 1] = (unsigned char)(tuple);\n",
    "        PngBuffer[NewPos + 2] = (unsigned char)(tuple);\n",
    "        PngBuffer[NewPos + 3] = 255;            \n",
    "\n",
    "}\n",
    "\n",
    "template<>\n",
    "void convertBuffer(std::vector<std::uint8_t> &PngBuffer,\n",
    "              int width,\n",
    "              int height,\n",
    "              int xIndex,\n",
    "              int yIndex,\n",
    "              vtkm::Vec<vtkm::Float32, 4> &tuple\n",
    "             )\n",
    "{\n",
    "            std::size_t NewPos = (height - yIndex - 1) * (width * 4) + 4 * xIndex;\n",
    "        PngBuffer[NewPos + 0] = (unsigned char)(tuple[0] * 255);\n",
    "        PngBuffer[NewPos + 1] = (unsigned char)(tuple[1] * 255);\n",
    "        PngBuffer[NewPos + 2] = (unsigned char)(tuple[2] * 255);\n",
    "        PngBuffer[NewPos + 3] = 255;            \n",
    "\n",
    "}\n",
    "\n",
    "template<typename ArrayType>\n",
    "void convertPng(ArrayType &array,int width,int height, std::vector<std::uint8_t> &ImageBuffer)\n",
    "{    \n",
    "  std::vector<std::uint8_t> PngBuffer(width*height*4);\n",
    "\n",
    "  for (vtkm::Id yIndex = 0; yIndex < height; yIndex++)\n",
    "  {\n",
    "    for (vtkm::Id xIndex = 0; xIndex < width; xIndex++)\n",
    "    {\n",
    "      auto tuple = array.GetPortalConstControl().Get(yIndex * width + xIndex);\n",
    "      //of << (unsigned char)(tuple[0] * 255);\n",
    "      //of << (unsigned char)(tuple[1] * 255);\n",
    "      //of << (unsigned char)(tuple[2] * 255);\n",
    "        \n",
    "        convertBuffer(PngBuffer, width, height, xIndex, yIndex, tuple);\n",
    "    }\n",
    "  }\n",
    "  lodepng::encode(ImageBuffer, PngBuffer, width, height);\n",
    "  return ImageBuffer;\n",
    "}\n",
    "\n",
    "\n",
    "\n",
    "template<typename CanvasType>\n",
    "auto convertPng(CanvasType &canvas)\n",
    "{\n",
    "    int width = canvas.GetWidth();\n",
    "    int height = canvas.GetHeight();\n",
    "\n",
    "  using ColorBufferType = vtkm::cont::ArrayHandle<vtkm::Vec<vtkm::Float32, 4>>;\n",
    "\n",
    "  auto colorArray = canvas.GetColorBuffer();\n",
    "    std::vector<std::uint8_t> ImageBuffer;\n",
    "  convertPng(colorArray, width, height, ImageBuffer);\n",
    "    return ImageBuffer;\n",
    "\n",
    "\n",
    "}\n",
    "\n",
    "\n"
   ]
  },
  {
   "cell_type": "code",
   "execution_count": 4,
   "metadata": {},
   "outputs": [],
   "source": [
    "#include <string>\n",
    "#include <fstream>\n",
    "\n",
    "#include \"xtl/xbase64.hpp\"\n",
    "#include \"nlohmann/json.hpp\"\n",
    "\n",
    "namespace im\n",
    "{\n",
    "    struct image\n",
    "    {\n",
    "        inline image(){}\n",
    "        inline image(const std::vector<uint8_t> &png)\n",
    "        {\n",
    "            m_buffer.assign(png.begin(), png.end());\n",
    "        }\n",
    "\n",
    "        std::string m_buffer;\n",
    "    };\n",
    "\n",
    "    nlohmann::json mime_bundle_repr(const image& i)\n",
    "    {\n",
    "        auto bundle = nlohmann::json::object();\n",
    "        bundle[\"image/png\"] = xtl::base64encode(i.m_buffer);\n",
    "        return bundle;\n",
    "    }\n",
    "}\n",
    "\n",
    "std::unique_ptr<im::image> displayImage = std::unique_ptr<im::image>();\n"
   ]
  },
  {
   "cell_type": "markdown",
   "metadata": {},
   "source": [
    "The default vtkm::rendering::View3D render both world space annotations (think bounding measuring box) and screen space annotations (think color bar). For screen space line integral convolution, we need to remove those."
   ]
  },
  {
   "cell_type": "code",
   "execution_count": null,
   "metadata": {},
   "outputs": [],
   "source": []
  },
  {
   "cell_type": "code",
   "execution_count": 5,
   "metadata": {},
   "outputs": [],
   "source": [
    "inline void SetCamera(std::unique_ptr<vtkm::rendering::Camera>& camera,\n",
    "                      const vtkm::Bounds& coordBounds)\n",
    "{\n",
    "  camera = std::unique_ptr<vtkm::rendering::Camera>(new vtkm::rendering::Camera());\n",
    "  camera->ResetToBounds(coordBounds);\n",
    "  camera->Azimuth(static_cast<vtkm::Float32>(45.0));\n",
    "  camera->Elevation(static_cast<vtkm::Float32>(45.0));\n",
    "}\n",
    "\n"
   ]
  },
  {
   "cell_type": "code",
   "execution_count": 6,
   "metadata": {},
   "outputs": [],
   "source": [
    "void Render(ViewUFLIC& view)\n",
    "{\n",
    "  view.Initialize();\n",
    "  view.Paint();\n",
    "}\n"
   ]
  },
  {
   "cell_type": "code",
   "execution_count": 7,
   "metadata": {},
   "outputs": [],
   "source": [
    "inline vtkm::cont::DataSet readVTKDataSet(const char* fname)\n",
    "{\n",
    "  vtkm::cont::DataSet ds;\n",
    "  vtkm::io::reader::VTKDataSetReader reader(fname);\n",
    "  try\n",
    "  {\n",
    "    ds = reader.ReadDataSet();\n",
    "  }\n",
    "  catch (vtkm::io::ErrorIO& e)\n",
    "  {\n",
    "    std::string message(\"Error reading: \");\n",
    "    message += fname;\n",
    "    message += \", \";\n",
    "    message += e.GetMessage();\n",
    "\n",
    "    VTKM_TEST_FAIL(message.c_str());\n",
    "  }\n",
    "\n",
    "  return ds;\n",
    "}"
   ]
  },
  {
   "cell_type": "code",
   "execution_count": 8,
   "metadata": {},
   "outputs": [],
   "source": [
    "void addField(vtkm::cont::DataSet &ds){\n",
    "    auto cnt = ds.GetField(0).GetData().GetNumberOfValues();\n",
    "    vtkm::cont::DataSetFieldAdd dsf;\n",
    "    std::vector<vtkm::Float32> vars(cnt);\n",
    "    for (int i=0; i<cnt ;i++){\n",
    "        vars[i] = vtkm::Float32(i)/vtkm::Float32(cnt);\n",
    "    }\n",
    "        \n",
    "    \n",
    "    dsf.AddPointField(ds, \"pointvar\", vars);\n",
    "\n",
    "}"
   ]
  },
  {
   "cell_type": "code",
   "execution_count": 9,
   "metadata": {},
   "outputs": [],
   "source": [
    "\n",
    "vtkm::cont::ColorTable buildColorTableFromArray(const vtkm::cont::DynamicArrayHandle &_h){\n",
    "    \n",
    "    auto handle = _h.Cast<vtkm::cont::ArrayHandle<vtkm::Vec<vtkm::Float32,3>>>();\n",
    "    vtkm::worklet::DispatcherMapField<vtkm::worklet::Normalize>(\n",
    "        vtkm::worklet::Normalize())\n",
    "        .Invoke(handle);\n",
    "\n",
    "    std::vector<double> out(_h.GetNumberOfValues()*4);\n",
    "    for (int i=0; i<handle.GetNumberOfValues(); i++){\n",
    "        auto tmp = handle.GetPortalConstControl().Get(i);\n",
    "        out[i*4] = tmp[0];\n",
    "        out[i*4+1] = tmp[1];\n",
    "        out[i*4+2] = tmp[2];\n",
    "        out[i*4+3] = 0.0;\n",
    "        if (i == 0)\n",
    "            std::cout << handle.GetPortalConstControl().Get(i) << std::endl;\n",
    "    }\n",
    "\n",
    "\n",
    "    std::string name = \"inplace\";\n",
    "    vtkm::Vec<double,3> nanIs(0,0,0);\n",
    "     return vtkm::cont::ColorTable(name, vtkm::cont::ColorSpace::RGB, nanIs, \n",
    "                              out);\n",
    "    \n",
    "};"
   ]
  },
  {
   "cell_type": "code",
   "execution_count": 10,
   "metadata": {},
   "outputs": [],
   "source": [
    " \n",
    "// vtkm::cont::ArrayHandle<int> runUFLIC(vtkm::rendering::Canvas &canvas)\n",
    "// {\n",
    "//     const int Size = 2;\n",
    "//     using VecType = vtkm::Float32;\n",
    "//     using ReaderType = ReaderUFLIC<VecType, Size>;\n",
    "\n",
    "//     auto reader = std::shared_ptr<ReaderType>(new ReaderType(canvas));\n",
    "//     UFLIC<VectorField<VecType,Size>,VecType,Size> uflic;\n",
    "//     uflic.do_print = true;\n",
    "//     uflic.run(reader);\n",
    "//     return uflic.result;\n",
    "\n",
    "// };\n",
    "\n"
   ]
  },
  {
   "cell_type": "code",
   "execution_count": 11,
   "metadata": {},
   "outputs": [],
   "source": [
    "auto mapper = std::unique_ptr<MapperUFLIC>();\n",
    "auto canvas = std::unique_ptr<CanvasUFLIC>();\n",
    "auto scene = std::unique_ptr<vtkm::rendering::Scene>();\n",
    "auto camera = std::unique_ptr<vtkm::rendering::Camera>();\n",
    "auto view = std::unique_ptr<ViewUFLIC>();\n",
    "auto lic = std::unique_ptr<ScreenSpaceLIC<VectorField< vtkm::Float32,2>, vtkm::Float32>>();\n",
    "const vtkm::Id2 dim(512,512);\n"
   ]
  },
  {
   "cell_type": "code",
   "execution_count": 12,
   "metadata": {},
   "outputs": [
    {
     "name": "stdout",
     "output_type": "stream",
     "text": [
      "[0.985389,-0.00133301,0.170312]\n"
     ]
    }
   ],
   "source": [
    "\n",
    "\n",
    "[&](){\n",
    "auto try_and_err = [&](){\n",
    "mapper = std::unique_ptr<MapperUFLIC>(new MapperUFLIC());\n",
    "canvas = std::unique_ptr<CanvasUFLIC>(new CanvasUFLIC(dim[0],dim[1]));\n",
    "scene = std::unique_ptr<vtkm::rendering::Scene>(new vtkm::rendering::Scene());\n",
    "camera = std::unique_ptr<vtkm::rendering::Camera>(new vtkm::rendering::Camera());\n",
    "view = std::unique_ptr<ViewUFLIC>(new ViewUFLIC(*scene, *mapper, *canvas, *camera, vtkm::rendering::Color(0,0,0,1), vtkm::rendering::Color(1,0,0,1)));\n",
    "\n",
    "mapper->SetShadingOn(false);\n",
    "mapper->SetStepSize(500.0);\n",
    "auto ds = readVTKDataSet(\"/home/mark/external/Dropbox/Presentation/ice-train-vel.vtk\");\n",
    "addField(ds);\n",
    "static std::string fieldNm = \"pointvar\";\n",
    "\n",
    "scene->AddActor(vtkm::rendering::Actor(\n",
    "ds.GetCellSet(), ds.GetCoordinateSystem(), ds.GetField(fieldNm), buildColorTableFromArray(ds.GetField(\"vectors\").GetData())));\n",
    "SetCamera(camera, ds.GetCoordinateSystem().GetBounds());\n",
    "view = std::unique_ptr<ViewUFLIC>(new ViewUFLIC(*scene, *mapper, *canvas, *camera, vtkm::rendering::Color(0,0,0,1), vtkm::rendering::Color(1,0,0,1)));        \n",
    "Render(*view);\n",
    "    };\n",
    "    try_and_err();\n",
    "}();\n"
   ]
  },
  {
   "cell_type": "code",
   "execution_count": 18,
   "metadata": {
    "scrolled": false
   },
   "outputs": [
    {
     "data": {
      "image/png": "[encoded data removed]"
     },
     "metadata": {},
     "output_type": "display_data"
    },
    {
     "name": "stdout",
     "output_type": "stream",
     "text": [
      "3\n"
     ]
    }
   ],
   "source": [
    "#include <xcpp/xdisplay.hpp>\n",
    "\n",
    "[&](){\n",
    "auto try_and_err = [&](){\n",
    "\n",
    "\n",
    "\n",
    "\n",
    "\n",
    "\n",
    "    auto png = convertPng(*canvas);\n",
    "\n",
    "    displayImage = std::make_unique<im::image>(png);\n",
    "    xcpp::display(*displayImage);\n",
    "    \n",
    "    std::vector<vtkm::cont::ArrayHandle<vtkm::Vec<vtkm::Float32, 2>>> sl, sr;\n",
    "\n",
    "    sr.push_back(canvas->pixelPos);\n",
    "    sl.push_back(canvas->pixelPrePos);\n",
    "     lic = std::unique_ptr<ScreenSpaceLIC<VectorField< vtkm::Float32,2>, vtkm::Float32>>(new ScreenSpaceLIC<VectorField< vtkm::Float32,2>, vtkm::Float32>(dim, 6.0, 1, 1));\n",
    "\n",
    "    lic->draw(sl, sr, canvas->GetDepthBuffer());\n",
    "\n",
    "    \n",
    "};\n",
    "try_and_err();\n",
    "}()"
   ]
  },
  {
   "cell_type": "code",
   "execution_count": 19,
   "metadata": {},
   "outputs": [
    {
     "data": {
      "image/png": "[encoded data removed]"
     },
     "metadata": {},
     "output_type": "display_data"
    }
   ],
   "source": [
    "[&]() \n",
    "{\n",
    "auto try_and_err = [&]()\n",
    "{\n",
    "        std::vector<std::uint8_t> png_uflic;\n",
    "    convertPng(lic->propFieldArray[1], canvas->GetWidth(), canvas->GetHeight(), png_uflic);\n",
    "      displayImage = std::make_unique<im::image>(png_uflic);\n",
    "      xcpp::display(*displayImage);\n",
    "};\n",
    "try_and_err();\n",
    "}();"
   ]
  },
  {
   "cell_type": "code",
   "execution_count": null,
   "metadata": {},
   "outputs": [],
   "source": []
  }
 ],
 "metadata": {
  "kernelspec": {
   "display_name": "C++17",
   "language": "C++17",
   "name": "xeus-cling-cpp17"
  },
  "language_info": {
   "codemirror_mode": "text/x-c++src",
   "file_extension": ".cpp",
   "mimetype": "text/x-c++src",
   "name": "c++",
   "version": "-std=c++17"
  }
 },
 "nbformat": 4,
 "nbformat_minor": 2
}
