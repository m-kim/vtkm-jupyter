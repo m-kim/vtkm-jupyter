{
 "cells": [
  {
   "cell_type": "code",
   "execution_count": 1,
   "metadata": {},
   "outputs": [],
   "source": [
    "#include <lodepng_config_cling.h>\n",
    "#include <vtkm_config_cling.h>\n",
    "#pragma cling add_include_path(\"/home/mark/Projects/vtkm-uflic/\")\n",
    "\n"
   ]
  },
  {
   "cell_type": "code",
   "execution_count": 2,
   "metadata": {},
   "outputs": [],
   "source": [
    "#include <vtkm/cont/DeviceAdapter.h>\n",
    "#include <vtkm/cont/testing/MakeTestDataSet.h>\n",
    "#include <vtkm/cont/testing/Testing.h>\n",
    "#include <vtkm/rendering/Actor.h>\n",
    "#include <vtkm/rendering/Mapper.h>\n",
    "#include <vtkm/rendering/Scene.h>\n",
    "#include <vtkm/rendering/View3D.h>\n",
    "#include <vtkm/cont/ColorTable.h>\n",
    "#include <vtkm/rendering/testing/RenderTest.h>\n",
    "#include <vtkm/io/reader/VTKDataSetReader.h>\n",
    "#include <vtkm/cont/internal/IteratorFromArrayPortal.h>\n",
    "#include <vtkm/cont/ArrayPortalToIterators.h>\n",
    "#include <vtkm/cont/DynamicArrayHandle.h>\n",
    "#include <vtkm/cont/ArrayCopy.h>\n",
    "#include <vtkm/worklet/Normalize.h>\n",
    "#include <vtkm/worklet/DispatcherMapField.h>\n",
    "#include \"Reader.h\"\n",
    "#include \"UFLIC.h\"\n",
    "\n",
    "\n"
   ]
  },
  {
   "cell_type": "markdown",
   "metadata": {},
   "source": [
    "Use lodepng to save out png instead of pnm so jupyter can read it.\n"
   ]
  },
  {
   "cell_type": "code",
   "execution_count": 3,
   "metadata": {
    "scrolled": false
   },
   "outputs": [],
   "source": [
    "#pragma cling add_include_path(\"/home/mark/Projects/xeus-vtkm/include/\")\n",
    "#include \"VTKmXeusRender.h\"\n",
    "#include \"VTKmXeusConvertPng.h\"\n"
   ]
  },
  {
   "cell_type": "markdown",
   "metadata": {},
   "source": [
    "The default vtkm::rendering::View3D render both world space annotations (think bounding measuring box) and screen space annotations (think color bar). For screen space line integral convolution, we need to remove those."
   ]
  },
  {
   "cell_type": "code",
   "execution_count": 4,
   "metadata": {
    "scrolled": true
   },
   "outputs": [],
   "source": [
    "using VecType = vtkm::Float32;\n",
    "constexpr int Size = 2;\n",
    "using UFLICType = UFLIC<DoubleGyreField<VecType,Size>,VecType,Size>;\n",
    "std::unique_ptr<im::image> displayImage;\n",
    "VTKmXeusRender renderer;\n",
    "vtkm::Int32 x,y;\n",
    "x = 64; y = 32;\n",
    "std::shared_ptr<Reader<VecType, Size>> reader;\n",
    "reader = std::shared_ptr<ReaderCalc<VecType, Size>>(new ReaderCalc<VecType, Size>(\"XGC_\", vtkm::Id2(x,y), Bounds(0,x,0,y), vtkm::Vec<VecType,Size>(2,1), 12));\n",
    "\n",
    "UFLICType uflic;\n"
   ]
  },
  {
   "cell_type": "code",
   "execution_count": null,
   "metadata": {},
   "outputs": [
    {
     "data": {
      "image/png": "[encoded data removed]"
     },
     "metadata": {},
     "output_type": "display_data"
    },
    {
     "name": "stdout",
     "output_type": "stream",
     "text": [
      "Finished dt: 0.1 cnt: 12 time: 4.31045 s\n",
      "Finished dt: 0.1 cnt: 12 time: 4.28498 s\n"
     ]
    }
   ],
   "source": [
    "[&](){\n",
    "auto try_and_err = [&]() {\n",
    "\n",
    "    uflic.do_print = true;\n",
    "    for (int i=0; i<100; i++){\n",
    "        auto render = [&](std::string name, auto array, vtkm::Id x, vtkm::Id y ){\n",
    "            renderer.Render(array, x,y, displayImage);\n",
    "        };\n",
    "        uflic.callback = render;\n",
    "        uflic.run(std::shared_ptr(reader));\n",
    "        \n",
    "    }\n",
    "\n",
    "    //vtkm::cont::ArrayHandle<vtkm::Vec<VecType,Size>> vec;\n",
    "    //vec.Allocate(x*y);\n",
    "    //reader->next(vec);\n",
    "    //uflic.saveQuiver(vtkm::Id2(x,y), vec);\n",
    "\n",
    "};\n",
    "try_and_err();\n",
    "}();"
   ]
  },
  {
   "cell_type": "code",
   "execution_count": null,
   "metadata": {},
   "outputs": [],
   "source": []
  },
  {
   "cell_type": "code",
   "execution_count": null,
   "metadata": {},
   "outputs": [],
   "source": [
    "\n"
   ]
  },
  {
   "cell_type": "code",
   "execution_count": null,
   "metadata": {},
   "outputs": [],
   "source": []
  },
  {
   "cell_type": "code",
   "execution_count": null,
   "metadata": {},
   "outputs": [],
   "source": []
  }
 ],
 "metadata": {
  "kernelspec": {
   "display_name": "C++17",
   "language": "C++17",
   "name": "xeus-cling-cpp17"
  },
  "language_info": {
   "codemirror_mode": "text/x-c++src",
   "file_extension": ".cpp",
   "mimetype": "text/x-c++src",
   "name": "c++",
   "version": "-std=c++17"
  }
 },
 "nbformat": 4,
 "nbformat_minor": 2
}
