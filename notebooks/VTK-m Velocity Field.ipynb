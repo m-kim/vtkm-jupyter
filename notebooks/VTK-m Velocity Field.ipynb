{
 "cells": [
  {
   "cell_type": "code",
   "execution_count": 1,
   "metadata": {},
   "outputs": [],
   "source": [
    "//#pragma include_alias(\"/local/vtk-m/clang/include/vtkm-1.2/vtkm/thirdparty/taotuple/vtkmtaotuple/\",\"vtkmtaotuple\")\n",
    "#pragma cling add_include_path(\"/home/ybk/local/vtk-m-1.3.0/include/vtkm-1.3/\")\n",
    "#pragma cling add_include_path(\"/home/ybk/Projects/vtkm-uflic/\")\n",
    "#pragma cling add_library_path(\"/home/ybk/local/vtk-m-1.3.0/lib/\")\n",
    "#pragma cling load(\"vtkm_cont-1.3\")\n",
    "#pragma cling load(\"vtkm_rendering-1.3\")\n",
    "\n",
    "\n",
    "#pragma cling add_library_path(\"/home/ybk/local/anaconda3/envs/cling/lib/\")\n",
    "#pragma cling load(\"lodepng\")\n"
   ]
  },
  {
   "cell_type": "code",
   "execution_count": 2,
   "metadata": {},
   "outputs": [],
   "source": [
    "#include <vtkm/cont/DeviceAdapter.h>\n",
    "#include <vtkm/cont/testing/MakeTestDataSet.h>\n",
    "#include <vtkm/cont/testing/Testing.h>\n",
    "#include <vtkm/rendering/Actor.h>\n",
    "#include <vtkm/rendering/Mapper.h>\n",
    "#include <vtkm/rendering/Scene.h>\n",
    "#include <vtkm/rendering/View3D.h>\n",
    "#include <vtkm/cont/ColorTable.h>\n",
    "#include <vtkm/rendering/testing/RenderTest.h>\n",
    "#include <vtkm/io/reader/VTKDataSetReader.h>\n",
    "#include <vtkm/cont/internal/IteratorFromArrayPortal.h>\n",
    "#include <vtkm/cont/ArrayPortalToIterators.h>\n",
    "#include <vtkm/cont/DynamicArrayHandle.h>\n",
    "#include <vtkm/cont/ArrayCopy.h>\n",
    "#include <vtkm/worklet/Normalize.h>\n",
    "#include <vtkm/worklet/DispatcherMapField.h>\n",
    "#include \"Reader.h\"\n",
    "#include \"UFLIC.h\"\n",
    "#include \"ViewUFLIC.h\"\n",
    "#include \"CanvasUFLIC.h\"\n",
    "#include \"MapperUFLIC.h\"\n",
    "#include \"ReaderUFLIC.h\"\n",
    "#include \"ScreenSpaceLIC.h\"\n",
    "\n",
    "\n"
   ]
  },
  {
   "cell_type": "markdown",
   "metadata": {},
   "source": [
    "Use lodepng to save out png instead of pnm so jupyter can read it.\n"
   ]
  },
  {
   "cell_type": "code",
   "execution_count": 3,
   "metadata": {},
   "outputs": [],
   "source": [
    "#include <VTKmXeusRender.h>\n"
   ]
  },
  {
   "cell_type": "markdown",
   "metadata": {},
   "source": [
    "The default vtkm::rendering::View3D render both world space annotations (think bounding measuring box) and screen space annotations (think color bar). For screen space line integral convolution, we need to remove those."
   ]
  },
  {
   "cell_type": "code",
   "execution_count": null,
   "metadata": {},
   "outputs": [],
   "source": []
  },
  {
   "cell_type": "code",
   "execution_count": 4,
   "metadata": {},
   "outputs": [],
   "source": [
    "inline vtkm::cont::DataSet readVTKDataSet(const char* fname)\n",
    "{\n",
    "  vtkm::cont::DataSet ds;\n",
    "  vtkm::io::reader::VTKDataSetReader reader(fname);\n",
    "  try\n",
    "  {\n",
    "    ds = reader.ReadDataSet();\n",
    "  }\n",
    "  catch (vtkm::io::ErrorIO& e)\n",
    "  {\n",
    "    std::string message(\"Error reading: \");\n",
    "    message += fname;\n",
    "    message += \", \";\n",
    "    message += e.GetMessage();\n",
    "\n",
    "    VTKM_TEST_FAIL(message.c_str());\n",
    "  }\n",
    "\n",
    "  return ds;\n",
    "}"
   ]
  },
  {
   "cell_type": "code",
   "execution_count": 5,
   "metadata": {},
   "outputs": [],
   "source": [
    "void addField(vtkm::cont::DataSet &ds){\n",
    "    auto cnt = ds.GetField(0).GetData().GetNumberOfValues();\n",
    "    vtkm::cont::DataSetFieldAdd dsf;\n",
    "    std::vector<vtkm::Float32> vars(cnt);\n",
    "    for (int i=0; i<cnt ;i++){\n",
    "        vars[i] = vtkm::Float32(i)/vtkm::Float32(cnt);\n",
    "    }\n",
    "        \n",
    "    \n",
    "    dsf.AddPointField(ds, \"pointvar\", vars);\n",
    "\n",
    "}"
   ]
  },
  {
   "cell_type": "code",
   "execution_count": 6,
   "metadata": {},
   "outputs": [],
   "source": [
    "\n",
    "vtkm::cont::ColorTable buildColorTableFromArray(const vtkm::cont::DynamicArrayHandle &_h){\n",
    "    \n",
    "    auto handle = _h.Cast<vtkm::cont::ArrayHandle<vtkm::Vec<vtkm::Float32,3>>>();\n",
    "    vtkm::worklet::DispatcherMapField<vtkm::worklet::Normalize>(\n",
    "        vtkm::worklet::Normalize())\n",
    "        .Invoke(handle);\n",
    "\n",
    "    std::vector<double> out(_h.GetNumberOfValues()*4);\n",
    "    for (int i=0; i<handle.GetNumberOfValues(); i++){\n",
    "        auto tmp = handle.GetPortalConstControl().Get(i);\n",
    "        out[i*4] = tmp[0];\n",
    "        out[i*4+1] = tmp[1];\n",
    "        out[i*4+2] = tmp[2];\n",
    "        out[i*4+3] = 0.0;\n",
    "        if (i == 0)\n",
    "            std::cout << handle.GetPortalConstControl().Get(i) << std::endl;\n",
    "    }\n",
    "\n",
    "\n",
    "    std::string name = \"inplace\";\n",
    "    vtkm::Vec<double,3> nanIs(0,0,0);\n",
    "     return vtkm::cont::ColorTable(name, vtkm::cont::ColorSpace::RGB, nanIs, \n",
    "                              out);\n",
    "    \n",
    "};"
   ]
  },
  {
   "cell_type": "code",
   "execution_count": 7,
   "metadata": {},
   "outputs": [],
   "source": [
    " \n",
    "// vtkm::cont::ArrayHandle<int> runUFLIC(vtkm::rendering::Canvas &canvas)\n",
    "// {\n",
    "//     const int Size = 2;\n",
    "//     using VecType = vtkm::Float32;\n",
    "//     using ReaderType = ReaderUFLIC<VecType, Size>;\n",
    "\n",
    "//     auto reader = std::shared_ptr<ReaderType>(new ReaderType(canvas));\n",
    "//     UFLIC<VectorField<VecType,Size>,VecType,Size> uflic;\n",
    "//     uflic.do_print = true;\n",
    "//     uflic.run(reader);\n",
    "//     return uflic.result;\n",
    "\n",
    "// };\n",
    "\n"
   ]
  },
  {
   "cell_type": "code",
   "execution_count": 8,
   "metadata": {},
   "outputs": [],
   "source": [
    "auto mapper = std::unique_ptr<MapperUFLIC>();\n",
    "auto canvas = std::unique_ptr<CanvasUFLIC>();\n",
    "auto scene = std::unique_ptr<vtkm::rendering::Scene>();\n",
    "auto camera = std::unique_ptr<vtkm::rendering::Camera>();\n",
    "auto view = std::unique_ptr<ViewUFLIC>();\n",
    "auto lic = std::unique_ptr<ScreenSpaceLIC<VectorField< vtkm::Float32,2>, vtkm::Float32>>();\n",
    "auto dim = std::unique_ptr<vtkm::Id2>();\n",
    "VTKmXeusRender render;\n"
   ]
  },
  {
   "cell_type": "code",
   "execution_count": 9,
   "metadata": {},
   "outputs": [
    {
     "name": "stdout",
     "output_type": "stream",
     "text": [
      "[0.985389,-0.00133301,0.170312]\n"
     ]
    }
   ],
   "source": [
    "\n",
    "\n",
    "[&](){\n",
    "auto try_and_err = [&](){\n",
    "dim = std::unique_ptr<vtkm::Id2>(new vtkm::Id2(512,512));\n",
    "mapper = std::unique_ptr<MapperUFLIC>(new MapperUFLIC());\n",
    "canvas = std::unique_ptr<CanvasUFLIC>(new CanvasUFLIC((*dim)[0],(*dim)[1]));\n",
    "scene = std::unique_ptr<vtkm::rendering::Scene>(new vtkm::rendering::Scene());\n",
    "camera = std::unique_ptr<vtkm::rendering::Camera>(new vtkm::rendering::Camera());\n",
    "view = std::unique_ptr<ViewUFLIC>(new ViewUFLIC(*scene, *mapper, *canvas, *camera, vtkm::rendering::Color(0,0,0,1), vtkm::rendering::Color(1,0,0,1)));\n",
    "\n",
    "mapper->SetShadingOn(false);\n",
    "auto ds = readVTKDataSet(\"/home/ybk/render/data/ice-train-vel.vtk\");\n",
    "addField(ds);\n",
    "auto colorTable = buildColorTableFromArray(ds.GetField(\"vectors\").GetData());\n",
    "static std::string fieldNm = \"pointvar\";\n",
    "render.Render(ds, *mapper, *canvas, colorTable, fieldNm);\n",
    "\n",
    "    };\n",
    "    try_and_err();\n",
    "}();\n"
   ]
  },
  {
   "cell_type": "code",
   "execution_count": 10,
   "metadata": {
    "scrolled": false
   },
   "outputs": [
    {
     "data": {
      "image/png": "[encoded data removed]"
     },
     "metadata": {},
     "output_type": "display_data"
    }
   ],
   "source": [
    "#include <xcpp/xdisplay.hpp>\n",
    "\n",
    "[&](){\n",
    "auto try_and_err = [&](){\n",
    "\n",
    "\n",
    "\n",
    "    render.Display(*canvas);\n",
    "\n",
    "\n",
    "    auto png = convertPng(*canvas);\n",
    "\n",
    "    \n",
    "    \n",
    "};\n",
    "try_and_err();\n",
    "}()"
   ]
  },
  {
   "cell_type": "code",
   "execution_count": 11,
   "metadata": {},
   "outputs": [
    {
     "name": "stdout",
     "output_type": "stream",
     "text": [
      "5\n"
     ]
    }
   ],
   "source": [
    "[&]() \n",
    "{\n",
    "auto try_and_err = [&]()\n",
    "{\n",
    "    lic = std::unique_ptr<ScreenSpaceLIC<VectorField< vtkm::Float32,2>, vtkm::Float32>>(new ScreenSpaceLIC<VectorField< vtkm::Float32,2>, vtkm::Float32>(*dim, 5.0, 4, 4));\n",
    "    vtkm::cont::ArrayHandleCounting<vtkm::Id> indexArray(vtkm::Id(0), 1, (*dim)[0]*(*dim)[1]);\n",
    "\n",
    "    lic->draw(canvas->pixelVel, indexArray, canvas->GetDepthBuffer());\n",
    "};\n",
    "try_and_err();\n",
    "}();\n"
   ]
  },
  {
   "cell_type": "code",
   "execution_count": 12,
   "metadata": {},
   "outputs": [
    {
     "data": {
      "image/png": "[encoded data removed]"
     },
     "metadata": {},
     "output_type": "display_data"
    }
   ],
   "source": [
    "[&]() \n",
    "{\n",
    "auto try_and_err = [&]()\n",
    "{\n",
    "    VTKmXeusRender render2;\n",
    "    render2.Display(lic->result, canvas->GetWidth(), canvas->GetHeight()) ;\n",
    "};\n",
    "try_and_err();\n",
    "}();"
   ]
  },
  {
   "cell_type": "code",
   "execution_count": null,
   "metadata": {},
   "outputs": [],
   "source": []
  },
  {
   "cell_type": "code",
   "execution_count": null,
   "metadata": {},
   "outputs": [],
   "source": []
  },
  {
   "cell_type": "code",
   "execution_count": null,
   "metadata": {},
   "outputs": [],
   "source": []
  }
 ],
 "metadata": {
  "kernelspec": {
   "display_name": "C++17",
   "language": "C++17",
   "name": "xeus-cling-cpp17"
  },
  "language_info": {
   "codemirror_mode": "text/x-c++src",
   "file_extension": ".cpp",
   "mimetype": "text/x-c++src",
   "name": "c++",
   "version": "-std=c++17"
  }
 },
 "nbformat": 4,
 "nbformat_minor": 2
}
