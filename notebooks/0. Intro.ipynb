{
 "cells": [
  {
   "cell_type": "markdown",
   "metadata": {
    "slideshow": {
     "slide_type": "slide"
    }
   },
   "source": [
    "# VTK-m and Jupyter Notebook\n",
    "\n",
    "### Mark Kim ORNL\n",
    "DOECGF Apr. 24, 2019"
   ]
  },
  {
   "cell_type": "markdown",
   "metadata": {
    "slideshow": {
     "slide_type": "slide"
    }
   },
   "source": [
    "# Jupyter Notebook\n",
    "\n",
    "* Computational environment.\n",
    " * Input/output cells for code \n",
    " * Embed text, plots, images etc.\n",
    "* Julia, Python, and R Notebook\n",
    "* You can even make slides\n",
    " * You're looking at it."
   ]
  },
  {
   "cell_type": "markdown",
   "metadata": {
    "slideshow": {
     "slide_type": "slide"
    }
   },
   "source": [
    "# Cling compiler\n",
    "\n",
    "* C++ is not practical for Jupyter notebook.\n",
    " * Or is it?\n",
    "* ***R***ead, ***E***valuate, ***P***rint, ***L***oop\n",
    "\n",
    "## Xeus\n",
    "* A Jupyter Kernel written in C++\n",
    "* For C++\n"
   ]
  },
  {
   "cell_type": "code",
   "execution_count": 1,
   "metadata": {
    "slideshow": {
     "slide_type": "slide"
    }
   },
   "outputs": [
    {
     "name": "stdout",
     "output_type": "stream",
     "text": [
      "Hello World.\n"
     ]
    }
   ],
   "source": [
    "#include <iostream>\n",
    "\n",
    "std::cout << \"Hello World.\" << std::endl;\n"
   ]
  }
 ],
 "metadata": {
  "celltoolbar": "Slideshow",
  "kernelspec": {
   "display_name": "C++17",
   "language": "C++17",
   "name": "xcpp17"
  },
  "language_info": {
   "codemirror_mode": "text/x-c++src",
   "file_extension": ".cpp",
   "mimetype": "text/x-c++src",
   "name": "c++",
   "version": "-std=c++17"
  }
 },
 "nbformat": 4,
 "nbformat_minor": 2
}
