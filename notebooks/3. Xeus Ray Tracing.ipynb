{
 "cells": [
  {
   "cell_type": "markdown",
   "metadata": {},
   "source": [
    "Unfortunately, there are some workarounds required.\n",
    "```\n",
    "ln -s vtkm/thirdparty/diy/vtkmdiy/ vtkmdiy\n",
    "ln -s vtkm/thirdparty/taotuple/vtkmtaotuple/ vtkmtaotuple\n",
    "```\n",
    "\n",
    "in the \n",
    "\n",
    "```\n",
    "include/vtkm-1.2\n",
    "```\n",
    "\n",
    "installation directory. These are normally handled by the `VTKmTargets.cmake` in\n",
    "\n",
    "```\n",
    "lib/cmake/vtkm-1.2/\n",
    "```\n"
   ]
  },
  {
   "cell_type": "code",
   "execution_count": 1,
   "metadata": {},
   "outputs": [],
   "source": [
    "//#pragma include_alias(\"/local/vtk-m/clang/include/vtkm-1.2/vtkm/thirdparty/taotuple/vtkmtaotuple/\",\"vtkmtaotuple\")\n",
    "#include <lodepng_config_cling.h>\n",
    "#include <vtkm_config_cling.h>"
   ]
  },
  {
   "cell_type": "code",
   "execution_count": 2,
   "metadata": {},
   "outputs": [],
   "source": [
    "#include <vtkm/cont/DeviceAdapter.h>\n",
    "#include <vtkm/cont/testing/MakeTestDataSet.h>\n",
    "#include <vtkm/cont/testing/Testing.h>\n",
    "#include <vtkm/rendering/Actor.h>\n",
    "#include <vtkm/rendering/CanvasRayTracer.h>\n",
    "#include <vtkm/rendering/MapperRayTracer.h>\n",
    "#include <vtkm/rendering/Scene.h>\n",
    "#include <vtkm/rendering/View3D.h>\n",
    "#include <vtkm/rendering/testing/RenderTest.h>\n"
   ]
  },
  {
   "cell_type": "markdown",
   "metadata": {},
   "source": [
    "Use lodepng to save out png instead of pnm so jupyter can read it.\n"
   ]
  },
  {
   "cell_type": "code",
   "execution_count": 3,
   "metadata": {},
   "outputs": [],
   "source": [
    "#include <VTKmXeusRender.h>\n",
    "std::unique_ptr<VTKmXeusRender> renderer;\n",
    "\n"
   ]
  },
  {
   "cell_type": "code",
   "execution_count": null,
   "metadata": {},
   "outputs": [],
   "source": [
    "#include <xcpp/xdisplay.hpp>\n",
    "//anonymous lambda as a work around for redefinition when recompiling\n",
    "[](){\n",
    "auto try_and_err = []() {\n",
    "\n",
    "    renderer = std::make_unique<VTKmXeusRender>();\n",
    "\n",
    "        using M = vtkm::rendering::MapperRayTracer;\n",
    "using C = vtkm::rendering::CanvasRayTracer;\n",
    "using V3 = vtkm::rendering::View3D;\n",
    "using V2 = vtkm::rendering::View2D;\n",
    "\n",
    "vtkm::cont::testing::MakeTestDataSet maker;\n",
    "vtkm::cont::ColorTable colorTable(\"inferno\");\n",
    "\n",
    "//vtkm::rendering::testing::Render<M, C, V3>(maker.Make3DRegularDataSet0(), \"pointvar\", colorTable, \"rt_reg3D.pnm\");\n",
    "\n",
    "M mapper;\n",
    "C canvas(512, 512);\n",
    "vtkm::rendering::Scene scene;\n",
    "vtkm::cont::DataSet ds = maker.Make3DRegularDataSet0();\n",
    "static std::string fieldNm = \"pointvar\";\n",
    "\n",
    "scene.AddActor(vtkm::rendering::Actor(\n",
    "ds.GetCellSet(), ds.GetCoordinateSystem(), ds.GetField(fieldNm), colorTable));\n",
    "vtkm::rendering::Camera camera;\n",
    "VTKmXeusRender::SetCamera<V3>(camera, ds.GetCoordinateSystem().GetBounds();\n",
    "vtkm::rendering::Color background(0.0f, 1.0f, 1.0f, 1.0f);\n",
    "vtkm::rendering::Color foreground(0.0f, 0.0f, 0.0f, 1.0f);\n",
    "V3 view(scene, mapper, canvas, camera, background, foreground);\n",
    "\n",
    "renderer->Render<M, C, V3>(view);\n",
    "\n",
    "};\n",
    "    try_and_err();\n",
    "}();"
   ]
  },
  {
   "cell_type": "code",
   "execution_count": null,
   "metadata": {},
   "outputs": [],
   "source": []
  },
  {
   "cell_type": "code",
   "execution_count": null,
   "metadata": {},
   "outputs": [],
   "source": []
  }
 ],
 "metadata": {
  "kernelspec": {
   "display_name": "C++17",
   "language": "C++17",
   "name": "xcpp17"
  },
  "language_info": {
   "codemirror_mode": "text/x-c++src",
   "file_extension": ".cpp",
   "mimetype": "text/x-c++src",
   "name": "c++",
   "version": "-std=c++17"
  }
 },
 "nbformat": 4,
 "nbformat_minor": 2
}
