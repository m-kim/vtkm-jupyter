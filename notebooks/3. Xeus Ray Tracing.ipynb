{
 "cells": [
  {
   "cell_type": "markdown",
   "metadata": {},
   "source": [
    "Unfortunately, there are some workarounds required.\n",
    "```\n",
    "ln -s vtkm/thirdparty/diy/vtkmdiy/ vtkmdiy\n",
    "ln -s vtkm/thirdparty/taotuple/vtkmtaotuple/ vtkmtaotuple\n",
    "```\n",
    "\n",
    "in the \n",
    "\n",
    "```\n",
    "include/vtkm-1.2\n",
    "```\n",
    "\n",
    "installation directory. These are normally handled by the `VTKmTargets.cmake` in\n",
    "\n",
    "```\n",
    "lib/cmake/vtkm-1.2/\n",
    "```\n"
   ]
  },
  {
   "cell_type": "code",
   "execution_count": 1,
   "metadata": {
    "slideshow": {
     "slide_type": "slide"
    }
   },
   "outputs": [],
   "source": [
    "//#pragma include_alias(\"/local/vtk-m/clang/include/vtkm-1.2/vtkm/thirdparty/taotuple/vtkmtaotuple/\",\"vtkmtaotuple\")\n",
    "#include <lodepng_config_cling.h>\n",
    "#include <vtkm_config_cling.h>"
   ]
  },
  {
   "cell_type": "code",
   "execution_count": 2,
   "metadata": {
    "slideshow": {
     "slide_type": "slide"
    }
   },
   "outputs": [],
   "source": [
    "#include <vtkm/cont/DeviceAdapter.h>\n",
    "#include <vtkm/cont/testing/MakeTestDataSet.h>\n",
    "#include <vtkm/cont/testing/Testing.h>\n",
    "#include <vtkm/rendering/Actor.h>\n",
    "#include <vtkm/rendering/CanvasRayTracer.h>\n",
    "#include <vtkm/rendering/MapperRayTracer.h>\n",
    "#include <vtkm/rendering/Scene.h>\n",
    "#include <vtkm/rendering/View3D.h>\n",
    "#include <vtkm/rendering/testing/RenderTest.h>\n"
   ]
  },
  {
   "cell_type": "markdown",
   "metadata": {
    "slideshow": {
     "slide_type": "slide"
    }
   },
   "source": [
    "Hide away all the VTK-m rendering stuff, including the png conversion."
   ]
  },
  {
   "cell_type": "code",
   "execution_count": 3,
   "metadata": {
    "slideshow": {
     "slide_type": "subslide"
    }
   },
   "outputs": [],
   "source": [
    "#include <VTKmXeusRender.h>\n",
    "std::unique_ptr<VTKmXeusRender> renderer;\n",
    "\n"
   ]
  },
  {
   "cell_type": "code",
   "execution_count": 3,
   "metadata": {
    "slideshow": {
     "slide_type": "slide"
    }
   },
   "outputs": [
    {
     "name": "stderr",
     "output_type": "stream",
     "text": [
      "\u001b[1minput_line_11:4:1: \u001b[0m\u001b[0;1;31merror: \u001b[0m\u001b[1muse of undeclared identifier 'renderer'\u001b[0m\n",
      "renderer = std::make_unique<VTKmXeusRender>();\n",
      "\u001b[0;1;32m^\n",
      "\u001b[0m\u001b[1minput_line_11:4:29: \u001b[0m\u001b[0;1;31merror: \u001b[0m\u001b[1muse of undeclared identifier 'VTKmXeusRender'\u001b[0m\n",
      "renderer = std::make_unique<VTKmXeusRender>();\n",
      "\u001b[0;1;32m                            ^\n",
      "\u001b[0m\u001b[1minput_line_11:7:1: \u001b[0m\u001b[0;1;31merror: \u001b[0m\u001b[1muse of undeclared identifier 'renderer'\u001b[0m\n",
      "renderer->Display(ds, \"pointvar\");\n",
      "\u001b[0;1;32m^\n",
      "\u001b[0m"
     ]
    },
    {
     "ename": "Interpreter Error",
     "evalue": "",
     "output_type": "error",
     "traceback": [
      "Interpreter Error: "
     ]
    }
   ],
   "source": [
    "#include <xcpp/xdisplay.hpp>\n",
    "[](){\n",
    "auto try_and_err = []() {\n",
    "renderer = std::make_unique<VTKmXeusRender>();\n",
    "vtkm::cont::testing::MakeTestDataSet maker;\n",
    "vtkm::cont::DataSet ds = maker.Make3DRegularDataSet0();\n",
    "renderer->Display(ds, \"pointvar\");\n",
    "};\n",
    "    try_and_err();\n",
    "}();"
   ]
  },
  {
   "cell_type": "code",
   "execution_count": null,
   "metadata": {},
   "outputs": [],
   "source": []
  },
  {
   "cell_type": "code",
   "execution_count": null,
   "metadata": {},
   "outputs": [],
   "source": []
  }
 ],
 "metadata": {
  "celltoolbar": "Slideshow",
  "kernelspec": {
   "display_name": "C++17",
   "language": "C++17",
   "name": "xeus-cling-cpp17"
  },
  "language_info": {
   "codemirror_mode": "text/x-c++src",
   "file_extension": ".cpp",
   "mimetype": "text/x-c++src",
   "name": "c++",
   "version": "-std=c++17"
  }
 },
 "nbformat": 4,
 "nbformat_minor": 2
}
