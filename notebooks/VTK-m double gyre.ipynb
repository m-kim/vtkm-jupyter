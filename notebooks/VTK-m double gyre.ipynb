{
 "cells": [
  {
   "cell_type": "markdown",
   "metadata": {},
   "source": [
    "Unfortunately, there are some workarounds required.\n",
    "```\n",
    "ln -s vtkm/thirdparty/diy/vtkmdiy/ vtkmdiy\n",
    "ln -s vtkm/thirdparty/taotuple/vtkmtaotuple/ vtkmtaotuple\n",
    "```\n",
    "\n",
    "in the \n",
    "\n",
    "```\n",
    "include/vtkm-1.2\n",
    "```\n",
    "\n",
    "installation directory. These are normally handled by the `VTKmTargets.cmake` in\n",
    "\n",
    "```\n",
    "lib/cmake/vtkm-1.2/\n",
    "```\n"
   ]
  },
  {
   "cell_type": "code",
   "execution_count": 1,
   "metadata": {},
   "outputs": [],
   "source": [
    "//#pragma include_alias(\"/local/vtk-m/clang/include/vtkm-1.2/vtkm/thirdparty/taotuple/vtkmtaotuple/\",\"vtkmtaotuple\")\n",
    "#include <lodepng_config_cling.h>\n",
    "#include <vtkm_config_cling.h>"
   ]
  },
  {
   "cell_type": "code",
   "execution_count": 2,
   "metadata": {},
   "outputs": [],
   "source": [
    "#include <vtkm/cont/DeviceAdapter.h>\n",
    "#include <vtkm/cont/testing/MakeTestDataSet.h>\n",
    "#include <vtkm/cont/testing/Testing.h>\n",
    "#include <vtkm/rendering/Actor.h>\n",
    "#include <vtkm/rendering/CanvasRayTracer.h>\n",
    "#include <vtkm/rendering/MapperRayTracer.h>\n",
    "#include <vtkm/rendering/Scene.h>\n",
    "#include <vtkm/rendering/View3D.h>\n",
    "#include <vtkm/rendering/testing/RenderTest.h>\n",
    "#include \"xplot/xfigure.hpp\"\n",
    "#include \"xplot/xmarks.hpp\"\n",
    "#include \"xplot/xaxes.hpp\"\n",
    "#include \"xcpp/xdisplay.hpp\""
   ]
  },
  {
   "cell_type": "code",
   "execution_count": 3,
   "metadata": {},
   "outputs": [],
   "source": [
    "vtkm::Float64 t, eps, omega;\n",
    "t = eps = omega = 0.0;\n",
    "std::vector<std::vector<vtkm::Float64>> linesx;\n",
    "std::vector<std::vector<vtkm::Float64>> linesy;\n",
    "int xdens, ydens;\n",
    "xdens = ydens = 16;\n",
    "std::unique_ptr<xpl::figure> fig = std::unique_ptr<xpl::figure>(new xpl::figure());\n"
   ]
  },
  {
   "cell_type": "markdown",
   "metadata": {},
   "source": [
    "Use lodepng to save out png instead of pnm so jupyter can read it.\n"
   ]
  },
  {
   "cell_type": "code",
   "execution_count": 4,
   "metadata": {},
   "outputs": [
    {
     "data": {
      "text/plain": [
       "@0x9b00650"
      ]
     },
     "execution_count": 4,
     "metadata": {},
     "output_type": "execute_result"
    }
   ],
   "source": [
    "#include <vtkm/Math.h>\n",
    "//anonymous lambda as a work around for redefinition when recompiling\n",
    "    \n",
    "using Vec2 = vtkm::Vec<vtkm::Float64,2>;\n",
    "\n",
    "//     t = 0.5;\n",
    "//     eps = 0.25;\n",
    "//     omega = 0.25;\n",
    "auto a = [&](){\n",
    "    return eps * vtkm::Sin(omega*t);\n",
    "};\n",
    "auto b = [&](){\n",
    "    return 1 -2 * eps * vtkm::Sin(omega * t);\n",
    "};\n",
    "auto f = [&](auto x){\n",
    "  return a() *x*x + b() * x;  \n",
    "};\n",
    "auto calcU = [&f](auto x, auto y, auto A){\n",
    "    return -vtkm::Pi() * A * vtkm::Sin(vtkm::Pi() * f(x)) * vtkm::Cos(vtkm::Pi() * y);\n",
    "};\n",
    "auto calcV = [&](auto x, auto y, auto A){\n",
    "    return vtkm::Pi() * A * vtkm::Cos(vtkm::Pi() * f(x)) * vtkm::Sin(vtkm::Pi()*y) * (2 * a() * x + b());\n",
    "};\n",
    "\n",
    "auto doublegyre = [&](auto x, auto y){\n",
    "    auto A = 0.25;\n",
    "    eps = 0.25;\n",
    "    omega = 2.0 * vtkm::Pi() / 10.0;\n",
    "\n",
    "    auto u = calcU(x,y, A);\n",
    "    auto v = calcV(x,y, A);\n",
    "    return std::make_tuple(u,v);\n",
    "};\n",
    "t = 0.5;\n",
    "doublegyre(0.25,0.25);\n",
    "\n",
    "        \n"
   ]
  },
  {
   "cell_type": "code",
   "execution_count": 5,
   "metadata": {},
   "outputs": [],
   "source": [
    "[](){\n",
    "  auto try_and_error = [](){\n",
    "      t = 0.1;\n",
    "\n",
    "      xdens = 16;\n",
    "      ydens = 16;\n",
    "      linesx.resize(xdens*ydens);\n",
    "      linesy.resize(xdens*ydens);\n",
    "      \n",
    "      int x,y;\n",
    "      x = y = 0;\n",
    "    for (y=0; y<ydens; y++){\n",
    "        for (x=0; x < xdens; x++){\n",
    "            int idx = y*xdens+x;\n",
    "              linesx[idx].clear();\n",
    "              linesy[idx].clear();\n",
    "            vtkm::Float32 xpt = x/float(xdens);\n",
    "            vtkm::Float32 ypt = y/float(ydens);\n",
    "            vtkm::Float32 newx,newy;\n",
    "            std::tie(newx,newy) = doublegyre(xpt,ypt);\n",
    "            linesx[idx].push_back(xpt);\n",
    "            linesy[idx].push_back(ypt);\n",
    "            linesx[idx].push_back(xpt + newx/float(xdens));\n",
    "            linesy[idx].push_back(ypt + newy/float(ydens));\n",
    "        }\n",
    "    }\n",
    "  } ;\n",
    "  try_and_error();\n",
    "}();\n"
   ]
  },
  {
   "cell_type": "code",
   "execution_count": null,
   "metadata": {},
   "outputs": [],
   "source": []
  },
  {
   "cell_type": "code",
   "execution_count": 6,
   "metadata": {},
   "outputs": [],
   "source": [
    "xpl::linear_scale sx, sy;"
   ]
  },
  {
   "cell_type": "code",
   "execution_count": 7,
   "metadata": {},
   "outputs": [],
   "source": [
    "xpl::axis hx(sx), hy(sy);\n",
    "hy.orientation = \"vertical\";\n",
    "fig->add_axis(hx);\n",
    "fig->add_axis(hy);\n",
    "\n"
   ]
  },
  {
   "cell_type": "code",
   "execution_count": 16,
   "metadata": {},
   "outputs": [
    {
     "name": "stdout",
     "output_type": "stream",
     "text": [
      "0.1875\n"
     ]
    },
    {
     "data": {
      "application/vnd.jupyter.widget-view+json": {
       "model_id": "792627d761bd45b4924714890100bb80",
       "version_major": 2,
       "version_minor": 0
      },
      "text/plain": [
       "A Jupyter widget"
      ]
     },
     "execution_count": 16,
     "metadata": {},
     "output_type": "execute_result"
    }
   ],
   "source": [
    "fig = std::unique_ptr<xpl::figure>(new xpl::figure());\n",
    "fig->add_axis(hx);\n",
    "fig->add_axis(hy);\n",
    "for (int i=3; i<4;i++){\n",
    "    for (int j=3; j<4; j++){\n",
    "    xpl::lines line(sx,sy);\n",
    "    line.x = linesx[i * xdens + j];\n",
    "    line.y = linesy[i * xdens + j];\n",
    "    std::cout << linesy[i*xdens +j][0] << std::endl;\n",
    "    fig->add_mark(std::move(line));\n",
    "        \n",
    "    }\n",
    "    \n",
    "}\n",
    "*fig"
   ]
  },
  {
   "cell_type": "code",
   "execution_count": null,
   "metadata": {},
   "outputs": [],
   "source": []
  },
  {
   "cell_type": "code",
   "execution_count": null,
   "metadata": {},
   "outputs": [],
   "source": []
  }
 ],
 "metadata": {
  "kernelspec": {
   "display_name": "C++17",
   "language": "C++17",
   "name": "xeus-cling-cpp17"
  },
  "language_info": {
   "codemirror_mode": "text/x-c++src",
   "file_extension": ".cpp",
   "mimetype": "text/x-c++src",
   "name": "c++",
   "version": "-std=c++17"
  }
 },
 "nbformat": 4,
 "nbformat_minor": 2
}
