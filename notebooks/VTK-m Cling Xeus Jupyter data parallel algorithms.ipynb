{
 "cells": [
  {
   "cell_type": "markdown",
   "metadata": {},
   "source": [
    "Unfortunately, there are some workarounds required.\n",
    "```\n",
    "ln -s vtkm/thirdparty/diy/vtkmdiy/ vtkmdiy\n",
    "ln -s vtkm/thirdparty/taotuple/vtkmtaotuple/ vtkmtaotuple\n",
    "```\n",
    "\n",
    "in the \n",
    "\n",
    "```\n",
    "include/vtkm-1.2\n",
    "```\n",
    "\n",
    "installation directory. These are normally handled by the `VTKmTargets.cmake` in\n",
    "\n",
    "```\n",
    "lib/cmake/vtkm-1.2/\n",
    "```\n"
   ]
  },
  {
   "cell_type": "code",
   "execution_count": 1,
   "metadata": {},
   "outputs": [],
   "source": [
    "//#pragma include_alias(\"/local/vtk-m/clang/include/vtkm-1.2/vtkm/thirdparty/taotuple/vtkmtaotuple/\",\"vtkmtaotuple\")\n",
    "#include <lodepng_config_cling.h>\n",
    "#include <vtkm_config_cling.h>"
   ]
  },
  {
   "cell_type": "code",
   "execution_count": 2,
   "metadata": {},
   "outputs": [],
   "source": [
    "#include <vtkm/cont/DeviceAdapter.h>\n",
    "#include <vtkm/cont/testing/MakeTestDataSet.h>\n",
    "#include <vtkm/cont/testing/Testing.h>\n",
    "#include <vtkm/rendering/Actor.h>\n",
    "#include <vtkm/rendering/CanvasRayTracer.h>\n",
    "#include <vtkm/rendering/MapperRayTracer.h>\n",
    "#include <vtkm/rendering/Scene.h>\n",
    "#include <vtkm/rendering/View3D.h>\n",
    "#include <vtkm/rendering/testing/RenderTest.h>\n",
    "#include <vtkm/cont/DeviceAdapterAlgorithm.h>\n",
    "#include <vtkm/cont/Algorithm.h>"
   ]
  },
  {
   "cell_type": "code",
   "execution_count": 5,
   "metadata": {},
   "outputs": [
    {
     "name": "stdout",
     "output_type": "stream",
     "text": [
      "83 86 77 15 93 35 86 92 49 21 \n",
      "15 21 35 49 77 83 86 86 92 93 \n",
      "637\n",
      "637\n",
      "15 36 71 120 197 280 366 452 544 637 \n",
      "2718\n"
     ]
    }
   ],
   "source": [
    "#include <algorithm>\n",
    "\n",
    "[](){\n",
    "auto try_and_err = []() {\n",
    "    //************************************************************************************\n",
    "    using DeviceAlgorithm = typename vtkm::cont::DeviceAdapterAlgorithm<VTKM_DEFAULT_DEVICE_ADAPTER_TAG>;\n",
    "    using PortalType = vtkm::cont::ArrayHandle<vtkm::Int32>::PortalControl;\n",
    "    \n",
    "    vtkm::cont::ArrayHandle<vtkm::Int32> array;\n",
    "    array.Allocate(10);\n",
    "    vtkm::cont::ArrayPortalToIterators<PortalType> iterators(array.GetPortalControl());\n",
    "\n",
    "    \n",
    "    srand(0); \n",
    "    std::generate(iterators.GetBegin(), iterators.GetEnd(), []() {return rand() % 100;});\n",
    "    \n",
    "    std::for_each(iterators.GetBegin(), iterators.GetEnd(), [] (const auto i) {std::cout << i << \" \";});\n",
    "    std::cout << std::endl;\n",
    "\n",
    "    DeviceAlgorithm::Sort(array);\n",
    "    std::for_each(iterators.GetBegin(), iterators.GetEnd(), [] (const auto i) {std::cout << i << \" \";});\n",
    "    std::cout << std::endl;\n",
    "        \n",
    "    std::cout << DeviceAlgorithm::Reduce(array, 0) << std::endl;\n",
    "    \n",
    "    std::cout << vtkm::cont::Algorithm::ScanInclusive(array,array) << std::endl;\n",
    "\n",
    "    std::for_each(iterators.GetBegin(), iterators.GetEnd(), [] (const auto i) {std::cout << i << \" \";});\n",
    "    std::cout << std::endl;\n",
    "\n",
    "    std::cout << DeviceAlgorithm::Reduce(array, 0) << std::endl;\n",
    "\n",
    "};\n",
    "    try_and_err();\n",
    "}();"
   ]
  },
  {
   "cell_type": "code",
   "execution_count": null,
   "metadata": {},
   "outputs": [],
   "source": []
  }
 ],
 "metadata": {
  "kernelspec": {
   "display_name": "C++17",
   "language": "C++17",
   "name": "xeus-cling-cpp17"
  },
  "language_info": {
   "codemirror_mode": "text/x-c++src",
   "file_extension": ".cpp",
   "mimetype": "text/x-c++src",
   "name": "c++",
   "version": "17"
  }
 },
 "nbformat": 4,
 "nbformat_minor": 2
}
