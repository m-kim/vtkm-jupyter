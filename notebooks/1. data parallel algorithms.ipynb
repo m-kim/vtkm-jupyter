{
 "cells": [
  {
   "cell_type": "markdown",
   "metadata": {
    "slideshow": {
     "slide_type": "slide"
    }
   },
   "source": [
    "# VTK-m and Jupyter Notebook\n",
    "\n",
    "* Jupyter notebook, \n",
    "* C++ (with REPL thanks to Cling)\n",
    "* And?"
   ]
  },
  {
   "cell_type": "markdown",
   "metadata": {
    "slideshow": {
     "slide_type": "slide"
    }
   },
   "source": [
    "# What's VTK-m?\n"
   ]
  },
  {
   "cell_type": "markdown",
   "metadata": {
    "slideshow": {
     "slide_type": "slide"
    }
   },
   "source": [
    "# VTK-m\n",
    "\n",
    "* \"VTK-m is a toolkit of scientific visualization algorithms for emerging processor architectures.\"\n",
    "* \"VTK-m supports the fine-grained concurrency for data analysis and visualization algorithms required to drive extreme scale computing by providing abstract models for data and execution that can be applied to a variety of algorithms across many different processor architectures.\""
   ]
  },
  {
   "cell_type": "code",
   "execution_count": 1,
   "metadata": {
    "slideshow": {
     "slide_type": "slide"
    }
   },
   "outputs": [],
   "source": [
    "//#pragma include_alias(\"/local/vtk-m/clang/include/vtkm-1.2/vtkm/thirdparty/taotuple/vtkmtaotuple/\",\"vtkmtaotuple\")\n",
    "#include <lodepng_config_cling.h>\n",
    "#include <vtkm_config_cling.h>"
   ]
  },
  {
   "cell_type": "code",
   "execution_count": 2,
   "metadata": {
    "slideshow": {
     "slide_type": "slide"
    }
   },
   "outputs": [],
   "source": [
    "#include <vtkm/cont/Algorithm.h>\n",
    "\n",
    "#include <algorithm>\n",
    "using ArrayType = vtkm::cont::ArrayHandle<vtkm::Int32>;\n",
    "using DeviceAlgorithm = typename vtkm::cont::DeviceAdapterAlgorithm<VTKM_DEFAULT_DEVICE_ADAPTER_TAG>;\n",
    "using PortalType = ArrayType::PortalControl;\n",
    "std::unique_ptr<ArrayType> array = std::unique_ptr<ArrayType>();\n"
   ]
  },
  {
   "cell_type": "markdown",
   "metadata": {
    "slideshow": {
     "slide_type": "slide"
    }
   },
   "source": [
    "# Generate a random array"
   ]
  },
  {
   "cell_type": "code",
   "execution_count": 3,
   "metadata": {
    "slideshow": {
     "slide_type": "subslide"
    }
   },
   "outputs": [
    {
     "name": "stdout",
     "output_type": "stream",
     "text": [
      "83 86 77 15 93 35 86 92 49 21 \n"
     ]
    }
   ],
   "source": [
    "\n",
    "[&](){\n",
    "auto try_and_err = [&]() {\n",
    "    array = std::make_unique<ArrayType>();\n",
    "    array->Allocate(10);\n",
    "    vtkm::cont::ArrayPortalToIterators<PortalType> iterators(array->GetPortalControl());\n",
    "\n",
    "    \n",
    "    srand(0); \n",
    "    std::generate(iterators.GetBegin(), iterators.GetEnd(), []() {return rand() % 100;});\n",
    "    \n",
    "    std::for_each(iterators.GetBegin(), iterators.GetEnd(), [] (const auto i) {std::cout << i << \" \";});\n",
    "    std::cout << std::endl;\n",
    "\n",
    "    \n",
    "\n",
    "};\n",
    "    try_and_err();\n",
    "}();"
   ]
  },
  {
   "cell_type": "markdown",
   "metadata": {
    "slideshow": {
     "slide_type": "slide"
    }
   },
   "source": [
    "# Sort and Reduce"
   ]
  },
  {
   "cell_type": "code",
   "execution_count": 4,
   "metadata": {
    "slideshow": {
     "slide_type": "subslide"
    }
   },
   "outputs": [
    {
     "name": "stdout",
     "output_type": "stream",
     "text": [
      "15 21 35 49 77 83 86 86 92 93 \n",
      "637\n"
     ]
    }
   ],
   "source": [
    "[&](){\n",
    "auto try_and_err = [&]() {\n",
    "    vtkm::cont::ArrayPortalToIterators<PortalType> iterators(array->GetPortalControl());    \n",
    "    DeviceAlgorithm::Sort(*array);\n",
    "    std::for_each(iterators.GetBegin(), iterators.GetEnd(), [] (const auto i) {std::cout << i << \" \";});\n",
    "    std::cout << std::endl;\n",
    "        \n",
    "    std::cout << DeviceAlgorithm::Reduce(*array, 0) << std::endl;\n",
    "\n",
    "};\n",
    "    try_and_err();\n",
    "}();"
   ]
  },
  {
   "cell_type": "markdown",
   "metadata": {
    "slideshow": {
     "slide_type": "slide"
    }
   },
   "source": [
    "# Inclusive Scan and Reduce"
   ]
  },
  {
   "cell_type": "code",
   "execution_count": 5,
   "metadata": {
    "slideshow": {
     "slide_type": "subslide"
    }
   },
   "outputs": [
    {
     "name": "stdout",
     "output_type": "stream",
     "text": [
      "637\n",
      "15 36 71 120 197 280 366 452 544 637 \n",
      "2718\n"
     ]
    }
   ],
   "source": [
    "[&](){\n",
    "auto try_and_err = [&]() {\n",
    "    vtkm::cont::ArrayPortalToIterators<PortalType> iterators(array->GetPortalControl());    \n",
    "    std::cout << vtkm::cont::Algorithm::ScanInclusive(*array,*array) << std::endl;\n",
    "\n",
    "    std::for_each(iterators.GetBegin(), iterators.GetEnd(), [] (const auto i) {std::cout << i << \" \";});\n",
    "    std::cout << std::endl;\n",
    "\n",
    "    std::cout << DeviceAlgorithm::Reduce(*array, 0) << std::endl;\n",
    "\n",
    "};\n",
    "    try_and_err();\n",
    "}();"
   ]
  }
 ],
 "metadata": {
  "celltoolbar": "Slideshow",
  "kernelspec": {
   "display_name": "C++17",
   "language": "C++17",
   "name": "xeus-cling-cpp17"
  },
  "language_info": {
   "codemirror_mode": "text/x-c++src",
   "file_extension": ".cpp",
   "mimetype": "text/x-c++src",
   "name": "c++",
   "version": "-std=c++17"
  }
 },
 "nbformat": 4,
 "nbformat_minor": 2
}
