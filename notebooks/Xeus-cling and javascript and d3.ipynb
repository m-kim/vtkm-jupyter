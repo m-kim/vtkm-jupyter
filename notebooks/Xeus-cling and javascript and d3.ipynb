{
 "cells": [
  {
   "cell_type": "markdown",
   "metadata": {},
   "source": [
    "So, we can run javascript (specifically d3) in xeus/cling. Interesting..."
   ]
  },
  {
   "cell_type": "code",
   "execution_count": 1,
   "metadata": {},
   "outputs": [
    {
     "data": {
      "text/html": [
       "<script>require.config({paths: {d3:\"https://d3js.org/d3.v4.min\"}});require([\"d3\"], function(d3) {window.d3 = d3;});var data = [80, 120, 60, 150, 200];var barHeight = 20;var bar = d3.select('svg')          .selectAll('rect')          .data(data)           .enter()           .append('rect')           .attr('width', function(d) {  return d; })           .attr('height', barHeight - 1)           .attr('transform', function(d, i) {            return \"translate(0,\" + i * barHeight + \")\";          });</script><svg width='200' height='500'></svg>"
      ]
     },
     "metadata": {},
     "output_type": "display_data"
    }
   ],
   "source": [
    "[](){\n",
    "    auto try_and_err = []() {\n",
    "auto bundle = nlohmann::json::object();\n",
    "std::string str;\n",
    "\n",
    "str += \"<script>require.config({paths: {d3:\\\"https://d3js.org/d3.v4.min\\\"}});\";\n",
    "str += \"require([\\\"d3\\\"], function(d3) {\";\n",
    "str += \"window.d3 = d3;});\";\n",
    "str += \"var data = [80, 120, 60, 150, 200];\";\n",
    "str += \"var barHeight = 20;\";\n",
    "str += \"var bar = d3.select('svg')\";\n",
    "str += \"          .selectAll('rect')\";\n",
    "str += \"          .data(data)\";\n",
    "str += \"           .enter()\";\n",
    "str += \"           .append('rect')\";\n",
    "str += \"           .attr('width', function(d) {  return d; })\";\n",
    "str += \"           .attr('height', barHeight - 1)\";\n",
    "str += \"           .attr('transform', function(d, i) {\";\n",
    "str += \"            return \\\"translate(0,\\\" + i * barHeight + \\\")\\\";\";\n",
    "str += \"          });\";\n",
    "str += \"</script>\";\n",
    "str += \"<svg width='200' height='500'></svg>\";\n",
    "bundle[\"text/html\"] = str;\n",
    "        \n",
    "xeus::get_interpreter().display_data(bundle, xeus::xjson::object(), xeus::xjson::object());\n",
    "    };\n",
    "    try_and_err();\n",
    "}();"
   ]
  },
  {
   "cell_type": "code",
   "execution_count": null,
   "metadata": {},
   "outputs": [],
   "source": []
  }
 ],
 "metadata": {
  "kernelspec": {
   "display_name": "C++17",
   "language": "C++17",
   "name": "xeus-cling-cpp17"
  },
  "language_info": {
   "codemirror_mode": "text/x-c++src",
   "file_extension": ".cpp",
   "mimetype": "text/x-c++src",
   "name": "c++",
   "version": "17"
  }
 },
 "nbformat": 4,
 "nbformat_minor": 2
}
