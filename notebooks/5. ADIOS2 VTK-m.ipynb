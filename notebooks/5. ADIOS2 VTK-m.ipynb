{
 "cells": [
  {
   "cell_type": "code",
   "execution_count": 1,
   "metadata": {
    "slideshow": {
     "slide_type": "slide"
    }
   },
   "outputs": [
    {
     "name": "stderr",
     "output_type": "stream",
     "text": [
      "cling::DynamicLibraryManager::loadLibrary(): libvtkm_cont-1.0.so.1: cannot open shared object file: No such file or directory\n",
      "cling::DynamicLibraryManager::loadLibrary(): libvtkm_worklet-1.0.so.1: cannot open shared object file: No such file or directory\n"
     ]
    }
   ],
   "source": [
    "#pragma cling add_library_path(\"/home/adios/local/mark-vtk-m/lib\")\n",
    "#pragma cling load(\"vtkm_worklet-1.0\")\n",
    "#pragma cling load(\"vtkm_cont-1.0\")\n",
    "#pragma cling load(\"vtkm_rendering-1.0\")\n",
    "#pragma cling add_include_path(\"/home/adios/local/mark-vtk-m/include/vtkm-1.0/\")\n",
    "#pragma cling add_include_path(\"/home/adios/local/mark-vtk-m/include/vtkm-1.0/\")\n",
    "\n",
    "\n",
    "#include <lodepng_config_cling.h>\n",
    "#include <iostream>\n",
    "#include <string>\n",
    "#include <VTKmXeusRender.h>"
   ]
  },
  {
   "cell_type": "code",
   "execution_count": 2,
   "metadata": {
    "slideshow": {
     "slide_type": "slide"
    }
   },
   "outputs": [],
   "source": [
    "#include <vtkm/cont/testing/MakeTestDataSet.h>\n",
    "std::unique_ptr<VTKmXeusRender> renderer;\n"
   ]
  },
  {
   "cell_type": "code",
   "execution_count": 3,
   "metadata": {
    "slideshow": {
     "slide_type": "slide"
    }
   },
   "outputs": [],
   "source": [
    "#pragma cling add_library_path(\"/opt/adios2/lib\")\n",
    "#pragma cling add_library_path(\"/usr/lib\")\n",
    "#pragma cling add_library_path(\"/home/mark/local/anaconda3/envs/cling/lib/\")\n",
    "#pragma cling add_include_path(\"/opt/adios2/include\")\n",
    "#pragma cling add_include_path(\"/usr/include/mpi\")\n",
    "#pragma cling load(\"adios2\")\n",
    "#pragma cling load(\"mpi\")\n",
    "#pragma cling load(\"mpi_cxx\")\n",
    "\n",
    "#include <adios2.h>\n",
    "#include <mpi.h>\n",
    "\n",
    "#include <memory.h>\n",
    "\n",
    "#include <vtkm/cont/ArrayHandleExtrudeCoords.h>\n",
    "#include <vtkm/cont/ArrayHandleExtrudeField.h>\n",
    "#include <vtkm/cont/CellSetExtrude.h>\n",
    "\n",
    "const int phiMultiplier = 8;\n",
    "int numNodes, numTris, numPhi, numTimeSteps;\n",
    "\n",
    "bool running = true;\n",
    "std::unique_ptr<adios2::IO> fileIO;\n",
    "std::unique_ptr<adios2::IO> meshIO;\n",
    "std::unique_ptr<adios2::ADIOS> adios;\n",
    "std::unique_ptr<adios2::ADIOS> mesh;\n",
    "\n",
    "std::unique_ptr<adios2::Engine> fileReader, meshReader;\n",
    "\n"
   ]
  },
  {
   "cell_type": "code",
   "execution_count": 4,
   "metadata": {
    "slideshow": {
     "slide_type": "slide"
    }
   },
   "outputs": [],
   "source": [
    "\n",
    "void initializeReaders(std::string meshName)\n",
    "{\n",
    "    fileReader->BeginStep(adios2::StepMode::NextAvailable, 0.0f);\n",
    "\n",
    "    meshReader = std::make_unique<adios2::Engine>(meshIO->Open(meshName, adios2::Mode::Read));\n",
    "    \n",
    "    adios2::Variable<int> nVar = meshIO->InquireVariable<int>(\"n_n\");\n",
    "    adios2::Variable<int> triVar = meshIO->InquireVariable<int>(\"n_t\");\n",
    "    adios2::Variable<int> phiVar = fileIO->InquireVariable<int>(\"nphi\");\n",
    "\n",
    "    if (nVar){\n",
    "        meshReader->Get(nVar, &numNodes, adios2::Mode::Sync);\n",
    "\n",
    "    }\n",
    "    if (triVar)\n",
    "        meshReader->Get(triVar, &numTris, adios2::Mode::Sync);\n",
    "\n",
    "    if (phiVar){\n",
    "        fileReader->Get(phiVar, &numPhi, adios2::Mode::Sync);\n",
    "        std::cout << \"phi: \" << numPhi << std::endl;\n",
    "    }\n",
    "}"
   ]
  },
  {
   "cell_type": "code",
   "execution_count": 5,
   "metadata": {
    "slideshow": {
     "slide_type": "subslide"
    }
   },
   "outputs": [],
   "source": [
    "vtkm::cont::DataSet readMesh()\n",
    "{\n",
    "    std::cout << \"numNodes: \" << numNodes << \", numTris \" << numTris << \", numPhi \" << numPhi << std::endl;\n",
    "   adios2::Variable<double> coordVar = meshIO->InquireVariable<double>(\"/coordinates/values\");\n",
    "\n",
    "  std::vector<double> buff;\n",
    "\n",
    "  //const int newPhi = phiMultiplier * numPhi;\n",
    "    int newPhi = numPhi;\n",
    "\n",
    "   meshReader->Get(coordVar, buff, adios2::Mode::Sync);\n",
    "\n",
    "   auto coords = vtkm::cont::make_ArrayHandleExtrudeCoords(buff, newPhi, false);\n",
    "  std::vector<int> ibuffc, ibuffn;\n",
    "\n",
    "  //vtkDataArray *conn = NULL, *nextNode = NULL;\n",
    "  // meshFile->ReadScalarData(\"/cell_set[0]/node_connect_list\", timestate, &conn);\n",
    "  // if (!meshFile->ReadScalarData(\"/nextnode\", timestate, &nextNode))\n",
    "  //     meshFile->ReadScalarData(\"nextnode\", timestate, &nextNode);\n",
    "  auto nodeConnectorVar = meshIO->InquireVariable<int>(\"/cell_set[0]/node_connect_list\");\n",
    "  auto nextNodeVar = meshIO->InquireVariable<int>(\"nextnode\");\n",
    "  if (!nodeConnectorVar || !nextNodeVar)\n",
    "      return vtkm::cont::DataSet();\n",
    "\n",
    "  meshReader->Get(nodeConnectorVar, ibuffc,adios2::Mode::Sync);\n",
    "  //auto conn = vtkm::cont::make_ArrayHandle(ibuffc);\n",
    "\n",
    "  meshReader->Get(nextNodeVar, ibuffn, adios2::Mode::Sync);\n",
    "  if (ibuffn.size() < 1)\n",
    "      return vtkm::cont::DataSet();\n",
    "\n",
    "  //auto nextNode = vtkm::cont::make_ArrayHandle(ibuffn);\n",
    "  auto cells = vtkm::cont::make_CellSetExtrude(ibuffc, coords, ibuffc);\n",
    "\n",
    "  vtkm::cont::DataSet ds;\n",
    "  ds.AddCoordinateSystem(vtkm::cont::CoordinateSystem(\"coords\", coords));\n",
    "  ds.AddCellSet(cells);\n",
    "\n",
    "  return ds;\n",
    "\n",
    "}"
   ]
  },
  {
   "cell_type": "code",
   "execution_count": 6,
   "metadata": {},
   "outputs": [
    {
     "name": "stderr",
     "output_type": "stream",
     "text": [
      "In file included from input_line_12:5:\n",
      "\u001b[1m/home/adios/local/mark-vtk-m/include/vtkm-1.0/vtkm/cont/ArrayHandleExtrudeField.h:50:18: \u001b[0m\u001b[0;1;31merror: \u001b[0m\u001b[1mno matching constructor for initialization of 'StorageType' (aka\n",
      "      'Storage<double, internal::StorageTagExtrude>')\u001b[0m\n",
      "  ...StorageType(vtkm::cont::make_ArrayHandle(array, length, copy), numberOfPlanes);\n",
      "\u001b[0;1;32m     ^           ~~~~~~~~~~~~~~~~~~~~~~~~~~~~~~~~~~~~~~~~~~~~~~~~~~~~~~~~~~~~~~~~~\n",
      "\u001b[0m\u001b[1m/home/adios/local/mark-vtk-m/include/vtkm-1.0/vtkm/cont/ArrayHandleExtrudeField.h:62:12: \u001b[0m\u001b[0;1;30mnote: \u001b[0min instantiation of function template specialization\n",
      "      'vtkm::cont::make_ArrayHandleExtrudeField<double>' requested here\u001b[0m\n",
      "    return make_ArrayHandleExtrudeField(\n",
      "\u001b[0;1;32m           ^\n",
      "\u001b[0m\u001b[1minput_line_16:8:29: \u001b[0m\u001b[0;1;30mnote: \u001b[0min instantiation of function template specialization\n",
      "      'vtkm::cont::make_ArrayHandleExtrudeField<double>' requested here\u001b[0m\n",
      "    auto dpot = vtkm::cont::make_ArrayHandleExtrudeField(buff, numPhi );\n",
      "\u001b[0;1;32m                            ^\n",
      "\u001b[0m\u001b[1m/home/adios/local/mark-vtk-m/include/vtkm-1.0/vtkm/cont/Storage.h:86:7: \u001b[0m\u001b[0;1;30mnote: \u001b[0mcandidate constructor (the implicit copy constructor) not viable: requires 1\n",
      "      argument, but 2 were provided\u001b[0m\n",
      "class Storage\n",
      "\u001b[0;1;32m      ^\n",
      "\u001b[0m\u001b[1m/home/adios/local/mark-vtk-m/include/vtkm-1.0/vtkm/cont/Storage.h:86:7: \u001b[0m\u001b[0;1;30mnote: \u001b[0mcandidate constructor (the implicit move constructor) not viable: requires 1\n",
      "      argument, but 2 were provided\u001b[0m\n",
      "\u001b[1m/home/adios/local/mark-vtk-m/include/vtkm-1.0/vtkm/cont/StorageExtrude.h:55:3: \u001b[0m\u001b[0;1;30mnote: \u001b[0mcandidate constructor not viable: requires 3 arguments, but 2 were provided\u001b[0m\n",
      "  Storage(const HandleType& array, vtkm::Int32 numberOfPlanes, bool cylindrical)\n",
      "\u001b[0;1;32m  ^\n",
      "\u001b[0m\u001b[1m/home/adios/local/mark-vtk-m/include/vtkm-1.0/vtkm/cont/StorageExtrude.h:38:3: \u001b[0m\u001b[0;1;30mnote: \u001b[0mcandidate constructor not viable: requires 0 arguments, but 2 were provided\u001b[0m\n",
      "  Storage()\n",
      "\u001b[0;1;32m  ^\n",
      "\u001b[0m\u001b[1m/home/adios/local/mark-vtk-m/include/vtkm-1.0/vtkm/cont/StorageExtrude.h:46:3: \u001b[0m\u001b[0;1;30mnote: \u001b[0mcandidate constructor not viable: requires 4 arguments, but 2 were provided\u001b[0m\n",
      "  Storage(const BaseT* array, vtkm::Id arrayLength, vtkm::Int32 numberOf...\n",
      "\u001b[0;1;32m  ^\n",
      "\u001b[0m"
     ]
    },
    {
     "ename": "Interpreter Error",
     "evalue": "",
     "output_type": "error",
     "traceback": [
      "Interpreter Error: "
     ]
    }
   ],
   "source": [
    "vtkm::cont::DataSet \n",
    "readValues()\n",
    "{\n",
    "    vtkm::cont::DataSet ds;\n",
    "\n",
    "    auto var = fileIO->InquireVariable<double>(\"dpot\");\n",
    "    std::vector<double> buff;\n",
    "    fileReader->Get(var, buff,adios2::Mode::Sync);\n",
    "    auto dpot = vtkm::cont::make_ArrayHandleExtrudeField(buff, numPhi );\n",
    "\n",
    "    ds.AddField(vtkm::cont::Field(\"pointvar\", vtkm::cont::Field::Association::POINTS,\n",
    "                                 buff.size(),\n",
    "                                 dpot));\n",
    "    \n",
    "    return ds;\n",
    "}"
   ]
  },
  {
   "cell_type": "code",
   "execution_count": null,
   "metadata": {},
   "outputs": [],
   "source": [
    "void openADIOS()\n",
    "{\n",
    "  adios = std::make_unique<adios2::ADIOS>(MPI_COMM_WORLD);\n",
    "  mesh = std::make_unique<adios2::ADIOS>(MPI_COMM_WORLD);\n",
    "\n",
    "  int numTimeSteps;\n",
    "\n",
    "  std::string filename(\"/home/adios/Tutorial/xgc/totalf_itg_tiny/xgc.3d.bp\");\n",
    "  fileIO = std::make_unique<adios2::IO>(adios->DeclareIO(\"SST\"));\n",
    "  fileIO->SetEngine(\"SST\");\n",
    "  meshIO = std::make_unique<adios2::IO>(mesh->DeclareIO(\"BP\"));\n",
    "  meshIO->SetEngine(\"BP\");\n",
    "\n",
    "   fileReader = std::make_unique<adios2::Engine>(fileIO->Open(filename, adios2::Mode::Read));\n",
    "  std::cout << \"Open \" << filename << std::endl;\n",
    "  std::cout << __FILE__ << \" \" << __LINE__ << std::endl;\n",
    "\n",
    "  const auto variables = fileIO->AvailableVariables();\n",
    "  std::cout << variables.size() << std::endl;\n",
    "\n",
    "  for (const auto variablePair : variables) {\n",
    "    std::cout << \"Name: \" << variablePair.first;\n",
    "\n",
    "    for (const auto &parameter : variablePair.second) {\n",
    "      std::cout << \"\\t\" << parameter.first << \": \" << parameter.second << \"\\n\";\n",
    "    }\n",
    "  }\n",
    "\n",
    "}"
   ]
  },
  {
   "cell_type": "code",
   "execution_count": null,
   "metadata": {
    "slideshow": {
     "slide_type": "slide"
    }
   },
   "outputs": [],
   "source": [
    "void display()\n",
    "{\n",
    "        vtkm::cont::DataSet ds;\n",
    "    initializeReaders(\"/home/adios/adiosvm/Tutorial/xgc/totalf_itg_tiny/xgc.mesh.bp\");\n",
    "    if (fileReader->BeginStep() == adios2::StepStatus::OK){\n",
    "        ds = readMesh();        \n",
    "        fileReader->EndStep();\n",
    "    }\n",
    "    try{\n",
    "        while(fileReader->BeginStep() ==adios2::StepStatus::OK && running){\n",
    "            ds = readValues();\n",
    "            std::string fieldNm(\"pointvar\");\n",
    "            vtkm::rendering::CanvasRayTracer canvas(512,512);\n",
    "            renderer->Display(ds, canvas, fieldNm);\n",
    "            fileReader->EndStep();\n",
    "        }    \n",
    "        fileReader->Close();\n",
    "        MPI_Finalize();\n",
    "    }\n",
    "    catch(int e){\n",
    "        fileReader->EndStep();\n",
    "        fileReader->Close();\n",
    "        MPI_Finalize();\n",
    "    }\n",
    "\n",
    "}"
   ]
  },
  {
   "cell_type": "code",
   "execution_count": null,
   "metadata": {
    "scrolled": false,
    "slideshow": {
     "slide_type": "slide"
    }
   },
   "outputs": [],
   "source": [
    "[](){auto try_and_err = []() {\n",
    "    \n",
    "    renderer = std::make_unique<VTKmXeusRender>();\n",
    "    MPI_Init(NULL,NULL);\n",
    "    openADIOS();\n",
    "    //printVars();\n",
    "    display();\n",
    "    \n",
    "};try_and_err();}();"
   ]
  },
  {
   "cell_type": "code",
   "execution_count": null,
   "metadata": {
    "deletable": false,
    "editable": false,
    "run_control": {
     "frozen": true
    },
    "slideshow": {
     "slide_type": "subslide"
    }
   },
   "outputs": [],
   "source": [
    "[](){auto try_and_err = []() {\n",
    "    renderer = std::make_unique<VTKmXeusRender>();\n",
    "    MPI_Init(NULL,NULL);\n",
    "    openADIOS();\n",
    "    printVars();\n",
    "    display();\n",
    "}; try_and_err(); }();"
   ]
  },
  {
   "cell_type": "code",
   "execution_count": null,
   "metadata": {},
   "outputs": [],
   "source": []
  }
 ],
 "metadata": {
  "celltoolbar": "Slideshow",
  "kernelspec": {
   "display_name": "C++17",
   "language": "C++17",
   "name": "xeus-cling-cpp17"
  },
  "language_info": {
   "codemirror_mode": "text/x-c++src",
   "file_extension": ".cpp",
   "mimetype": "text/x-c++src",
   "name": "c++",
   "version": "-std=c++17"
  }
 },
 "nbformat": 4,
 "nbformat_minor": 2
}
