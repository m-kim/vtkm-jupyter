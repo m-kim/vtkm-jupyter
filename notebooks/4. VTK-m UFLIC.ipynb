{
 "cells": [
  {
   "cell_type": "code",
   "execution_count": null,
   "metadata": {
    "slideshow": {
     "slide_type": "slide"
    }
   },
   "outputs": [],
   "source": [
    "# Unsteady Flow Line Integral Convolution"
   ]
  },
  {
   "cell_type": "code",
   "execution_count": 1,
   "metadata": {
    "slideshow": {
     "slide_type": "slide"
    }
   },
   "outputs": [],
   "source": [
    "#include <lodepng_config_cling.h>\n",
    "#include <vtkm_config_cling.h>\n",
    "#pragma cling add_include_path(\"/home/adios/Projects/vtkm-uflic/\")\n",
    "\n"
   ]
  },
  {
   "cell_type": "code",
   "execution_count": 2,
   "metadata": {
    "slideshow": {
     "slide_type": "slide"
    }
   },
   "outputs": [],
   "source": [
    "#include \"Reader.h\"\n",
    "#include \"UFLIC.h\"\n",
    "\n",
    "\n"
   ]
  },
  {
   "cell_type": "code",
   "execution_count": 3,
   "metadata": {
    "scrolled": false,
    "slideshow": {
     "slide_type": "slide"
    }
   },
   "outputs": [],
   "source": [
    "#include <VTKmXeusRender.h>\n"
   ]
  },
  {
   "cell_type": "code",
   "execution_count": 4,
   "metadata": {
    "scrolled": true,
    "slideshow": {
     "slide_type": "slide"
    }
   },
   "outputs": [],
   "source": [
    "using VecType = vtkm::Float32;\n",
    "constexpr int Size = 2;\n",
    "using UFLICType = UFLIC<DoubleGyreField<VecType,Size>,VecType,Size>;\n",
    "std::unique_ptr<VTKmXeusRender> renderer;\n",
    "vtkm::Int32 x,y;\n",
    "x = 128; y = 64;\n",
    "std::shared_ptr<Reader<VecType, Size>> reader;\n",
    "reader = std::shared_ptr<ReaderCalc<VecType, Size>>(new ReaderCalc<VecType, Size>(\"XGC_\", vtkm::Id2(x,y), Bounds(0,x,0,y), vtkm::Vec<VecType,Size>(2,1), 240));\n",
    "\n",
    "UFLICType uflic;\n"
   ]
  },
  {
   "cell_type": "code",
   "execution_count": null,
   "metadata": {
    "slideshow": {
     "slide_type": "slide"
    }
   },
   "outputs": [
    {
     "data": {
      "image/png": "[encoded data removed]"
     },
     "metadata": {},
     "output_type": "display_data"
    }
   ],
   "source": [
    "[&](){\n",
    "auto try_and_err = [&]() {\n",
    "    renderer = std::make_unique<VTKmXeusRender>();\n",
    "    uflic.do_print = true;\n",
    "    auto render = [&](std::string name, auto array, vtkm::Id x, vtkm::Id y ){\n",
    "        renderer->Display(array, x,y);\n",
    "    };\n",
    "    uflic.callback = render;\n",
    "    uflic.run(std::shared_ptr(reader));\n",
    "\n",
    "    //vtkm::cont::ArrayHandle<vtkm::Vec<VecType,Size>> vec;\n",
    "    //vec.Allocate(x*y);\n",
    "    //reader->next(vec);\n",
    "    //uflic.saveQuiver(vtkm::Id2(x,y), vec);\n",
    "\n",
    "};\n",
    "try_and_err();\n",
    "}();"
   ]
  },
  {
   "cell_type": "code",
   "execution_count": null,
   "metadata": {
    "slideshow": {
     "slide_type": "skip"
    }
   },
   "outputs": [],
   "source": []
  },
  {
   "cell_type": "code",
   "execution_count": null,
   "metadata": {
    "slideshow": {
     "slide_type": "skip"
    }
   },
   "outputs": [],
   "source": [
    "\n"
   ]
  },
  {
   "cell_type": "code",
   "execution_count": null,
   "metadata": {
    "slideshow": {
     "slide_type": "skip"
    }
   },
   "outputs": [],
   "source": []
  },
  {
   "cell_type": "code",
   "execution_count": null,
   "metadata": {
    "slideshow": {
     "slide_type": "skip"
    }
   },
   "outputs": [],
   "source": []
  }
 ],
 "metadata": {
  "celltoolbar": "Slideshow",
  "kernelspec": {
   "display_name": "C++17",
   "language": "C++17",
   "name": "xeus-cling-cpp17"
  },
  "language_info": {
   "codemirror_mode": "text/x-c++src",
   "file_extension": ".cpp",
   "mimetype": "text/x-c++src",
   "name": "c++",
   "version": "-std=c++17"
  }
 },
 "nbformat": 4,
 "nbformat_minor": 2
}
