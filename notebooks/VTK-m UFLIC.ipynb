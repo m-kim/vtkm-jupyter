{
 "cells": [
  {
   "cell_type": "code",
   "execution_count": 10,
   "metadata": {
    "slideshow": {
     "slide_type": "skip"
    }
   },
   "outputs": [],
   "source": [
    "#include <lodepng_config_cling.h>\n",
    "#include <vtkm_config_cling.h>\n",
    "#pragma cling add_include_path(\"/home/ybk/Projects/vtkm-uflic/\")\n",
    "\n"
   ]
  },
  {
   "cell_type": "code",
   "execution_count": 11,
   "metadata": {
    "slideshow": {
     "slide_type": "skip"
    }
   },
   "outputs": [],
   "source": [
    "#include \"Reader.h\"\n",
    "#include \"UFLIC.h\"\n",
    "\n",
    "\n"
   ]
  },
  {
   "cell_type": "code",
   "execution_count": 12,
   "metadata": {
    "scrolled": false,
    "slideshow": {
     "slide_type": "skip"
    }
   },
   "outputs": [],
   "source": [
    "#include <VTKmXeusRender.h>\n"
   ]
  },
  {
   "cell_type": "code",
   "execution_count": 13,
   "metadata": {
    "scrolled": true,
    "slideshow": {
     "slide_type": "skip"
    }
   },
   "outputs": [
    {
     "name": "stderr",
     "output_type": "stream",
     "text": [
      "\u001b[1minput_line_21:3:15: \u001b[0m\u001b[0;1;31merror: \u001b[0m\u001b[1mredefinition of 'Size'\u001b[0m\n",
      "constexpr int Size = 2;\n",
      "\u001b[0;1;32m              ^\n",
      "\u001b[0m\u001b[1minput_line_13:3:15: \u001b[0m\u001b[0;1;30mnote: \u001b[0mprevious definition is here\u001b[0m\n",
      "constexpr int Size = 2;\n",
      "\u001b[0;1;32m              ^\n",
      "\u001b[0m"
     ]
    },
    {
     "ename": "Interpreter Error",
     "evalue": "",
     "output_type": "error",
     "traceback": [
      "Interpreter Error: "
     ]
    }
   ],
   "source": [
    "using VecType = vtkm::Float32;\n",
    "constexpr int Size = 2;\n",
    "using UFLICType = UFLIC<DoubleGyreField<VecType,Size>,VecType,Size>;\n",
    "std::unique_ptr<VTKmXeusRender> renderer;\n",
    "vtkm::Int32 x,y;\n",
    "x = 64; y = 32;\n",
    "std::shared_ptr<Reader<VecType, Size>> reader;\n",
    "reader = std::shared_ptr<ReaderCalc<VecType, Size>>(new ReaderCalc<VecType, Size>(\"XGC_\", vtkm::Id2(x,y), Bounds(0,x,0,y), vtkm::Vec<VecType,Size>(2,1), 12));\n",
    "\n",
    "UFLICType uflic;\n"
   ]
  },
  {
   "cell_type": "code",
   "execution_count": 9,
   "metadata": {
    "slideshow": {
     "slide_type": "slide"
    }
   },
   "outputs": [
    {
     "name": "stdout",
     "output_type": "stream",
     "text": [
      "Finished dt: 0.1 cnt: 12 time: 1.35611 s\n"
     ]
    }
   ],
   "source": [
    "[&](){\n",
    "auto try_and_err = [&]() {\n",
    "    renderer = std::make_unique<VTKmXeusRender>();\n",
    "    uflic.do_print = true;\n",
    "    auto render = [&](std::string name, auto array, vtkm::Id x, vtkm::Id y ){\n",
    "        renderer->Display(array, x,y);\n",
    "    };\n",
    "    uflic.callback = render;\n",
    "    uflic.run(std::shared_ptr(reader));\n",
    "\n",
    "    //vtkm::cont::ArrayHandle<vtkm::Vec<VecType,Size>> vec;\n",
    "    //vec.Allocate(x*y);\n",
    "    //reader->next(vec);\n",
    "    //uflic.saveQuiver(vtkm::Id2(x,y), vec);\n",
    "\n",
    "};\n",
    "try_and_err();\n",
    "}();"
   ]
  },
  {
   "cell_type": "code",
   "execution_count": null,
   "metadata": {
    "slideshow": {
     "slide_type": "skip"
    }
   },
   "outputs": [],
   "source": []
  },
  {
   "cell_type": "code",
   "execution_count": null,
   "metadata": {
    "slideshow": {
     "slide_type": "skip"
    }
   },
   "outputs": [],
   "source": [
    "\n"
   ]
  },
  {
   "cell_type": "code",
   "execution_count": null,
   "metadata": {
    "slideshow": {
     "slide_type": "skip"
    }
   },
   "outputs": [],
   "source": []
  },
  {
   "cell_type": "code",
   "execution_count": null,
   "metadata": {
    "slideshow": {
     "slide_type": "skip"
    }
   },
   "outputs": [],
   "source": []
  }
 ],
 "metadata": {
  "celltoolbar": "Slideshow",
  "kernelspec": {
   "display_name": "C++17",
   "language": "C++17",
   "name": "xeus-cling-cpp17"
  },
  "language_info": {
   "codemirror_mode": "text/x-c++src",
   "file_extension": ".cpp",
   "mimetype": "text/x-c++src",
   "name": "c++",
   "version": "-std=c++17"
  }
 },
 "nbformat": 4,
 "nbformat_minor": 2
}
