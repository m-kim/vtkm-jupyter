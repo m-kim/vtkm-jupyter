{
 "cells": [
  {
   "cell_type": "code",
   "execution_count": 4,
   "metadata": {},
   "outputs": [],
   "source": [
    "#pragma cling add_library_path(\"/home/mark/local/anaconda3/envs/cling/lib\")\n",
    "#pragma cling load(\"vtkCommonCore-8.2\")\n",
    "#pragma cling load(\"vtkRenderingCore-8.2\")\n",
    "#pragma cling load(\"libvtkIOLegacy-8.2\")\n",
    "#pragma cling load(\"vtkCommonColor-8.2\")\n",
    "#pragma cling load(\"vtkCommonCore-8.2\")\n",
    "#pragma cling load(\"vtkCommonDataModel-8.2\")\n",
    "#pragma cling load(\"vtkFiltersSources-8.2\")\n",
    "#pragma cling load(\"vtkInteractionStyle-8.2\")\n",
    "#pragma cling load(\"vtkRenderingFreeType-8.2\")\n",
    "#pragma cling load(\"vtkIOXML-8.2\")\n",
    "\n",
    "#include <vtk/vtkSphereSource.h>\n",
    "#include <vtk/vtkPolyDataWriter.h>\n",
    "#include <vtk/vtkActor.h>"
   ]
  },
  {
   "cell_type": "code",
   "execution_count": 6,
   "metadata": {},
   "outputs": [],
   "source": [
    "[](){\n",
    "auto try_and_err = [](){\n",
    "    auto sphereSource = vtkSmartPointer<vtkSphereSource>::New();\n",
    "    sphereSource->SetCenter(0.0, 0.0, 0.0);\n",
    "    sphereSource->SetRadius(5.0);\n",
    "\n",
    "    auto writer = vtkSmartPointer<vtkPolyDataWriter>::New();\n",
    "    writer->SetInputConnection(sphereSource->GetOutputPort());\n",
    "    writer->SetFileName(\"sphere.vtk\");\n",
    "    writer->Update();\n",
    "    };\n",
    "\n",
    "try_and_err();\n",
    "}();\n"
   ]
  },
  {
   "cell_type": "code",
   "execution_count": null,
   "metadata": {},
   "outputs": [],
   "source": []
  }
 ],
 "metadata": {
  "kernelspec": {
   "display_name": "C++17",
   "language": "C++17",
   "name": "xeus-cling-cpp17"
  },
  "language_info": {
   "codemirror_mode": "text/x-c++src",
   "file_extension": ".cpp",
   "mimetype": "text/x-c++src",
   "name": "c++",
   "version": "-std=c++17"
  }
 },
 "nbformat": 4,
 "nbformat_minor": 2
}
