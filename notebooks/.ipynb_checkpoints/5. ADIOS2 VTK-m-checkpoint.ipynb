{
 "cells": [
  {
   "cell_type": "code",
   "execution_count": 1,
   "metadata": {
    "slideshow": {
     "slide_type": "slide"
    }
   },
   "outputs": [],
   "source": [
    "#include <lodepng_config_cling.h>\n",
    "#include <vtkm_config_cling.h>\n",
    "#include <iostream>\n",
    "#include <string>\n",
    "#include <VTKmXeusRender.h>"
   ]
  },
  {
   "cell_type": "code",
   "execution_count": 2,
   "metadata": {
    "slideshow": {
     "slide_type": "slide"
    }
   },
   "outputs": [],
   "source": [
    "#include <vtkm/cont/testing/MakeTestDataSet.h>\n",
    "std::unique_ptr<VTKmXeusRender> renderer;\n"
   ]
  },
  {
   "cell_type": "code",
   "execution_count": 3,
   "metadata": {
    "slideshow": {
     "slide_type": "slide"
    }
   },
   "outputs": [],
   "source": [
    "#pragma cling add_library_path(\"/opt/adios2/lib\")\n",
    "#pragma cling add_library_path(\"/usr/lib\")\n",
    "#pragma cling add_library_path(\"/home/mark/local/anaconda3/envs/cling/lib/\")\n",
    "#pragma cling add_include_path(\"/opt/adios2/include\")\n",
    "#pragma cling add_include_path(\"/usr/include/mpi\")\n",
    "#pragma cling load(\"adios2\")\n",
    "#pragma cling load(\"mpi\")\n",
    "#pragma cling load(\"mpi_cxx\")\n",
    "\n",
    "#include <adios2.h>\n",
    "#include <mpi.h>\n",
    "\n",
    "#include <memory.h>\n",
    "\n",
    "\n",
    "const int phiMultiplier = 8;\n",
    "int numNodes, numTris, numPhi, numTimeSteps;\n",
    "\n",
    "bool running = true;\n",
    "std::unique_ptr<adios2::IO> fileIO;\n",
    "std::unique_ptr<adios2::IO> meshIO;\n",
    "std::unique_ptr<adios2::ADIOS> adios;\n",
    "std::unique_ptr<adios2::ADIOS> mesh;\n",
    "\n",
    "std::unique_ptr<adios2::Engine> fileReader, meshReader;\n",
    "\n",
    "vtkm::cont::ArrayHandle<vtkm::Id> wedgeConn;\n",
    "vtkm::cont::ArrayHandle<vtkm::Vec<double,3>> points;\n"
   ]
  },
  {
   "cell_type": "code",
   "execution_count": 4,
   "metadata": {
    "slideshow": {
     "slide_type": "slide"
    }
   },
   "outputs": [],
   "source": [
    "\n",
    "void initializeReaders(std::string meshName)\n",
    "{\n",
    "    fileReader->BeginStep(adios2::StepMode::NextAvailable, 0.0f);\n",
    "\n",
    "    meshReader = std::make_unique<adios2::Engine>(meshIO->Open(meshName, adios2::Mode::Read));\n",
    "    \n",
    "    adios2::Variable<int> nVar = meshIO->InquireVariable<int>(\"n_n\");\n",
    "    adios2::Variable<int> triVar = meshIO->InquireVariable<int>(\"n_t\");\n",
    "    adios2::Variable<int> phiVar = fileIO->InquireVariable<int>(\"nphi\");\n",
    "\n",
    "    if (nVar){\n",
    "        meshReader->Get(nVar, &numNodes, adios2::Mode::Sync);\n",
    "\n",
    "    }\n",
    "    if (triVar)\n",
    "        meshReader->Get(triVar, &numTris, adios2::Mode::Sync);\n",
    "\n",
    "    if (phiVar){\n",
    "        fileReader->Get(phiVar, &numPhi, adios2::Mode::Sync);\n",
    "        std::cout << \"phi: \" << numPhi << std::endl;\n",
    "    }\n",
    "}"
   ]
  },
  {
   "cell_type": "code",
   "execution_count": 5,
   "metadata": {
    "slideshow": {
     "slide_type": "subslide"
    }
   },
   "outputs": [],
   "source": [
    "vtkm::cont::DataSet readMesh(\n",
    "             std::unique_ptr<adios2::IO> &meshIO,\n",
    "             std::unique_ptr<adios2::Engine> &meshReader)\n",
    "{\n",
    "    \n",
    "    std::cout << \"numNodes: \" << numNodes << \", numTris \" << numTris << \", numPhi \" << numPhi << std::endl;\n",
    "   adios2::Variable<double> coordVar = meshIO->InquireVariable<double>(\"/coordinates/values\");\n",
    "\n",
    "  std::vector<double> buff;\n",
    "\n",
    "  //const int newPhi = phiMultiplier * numPhi;\n",
    "    int newPhi = numPhi;\n",
    "\n",
    "   meshReader->Get(coordVar, buff, adios2::Mode::Sync);\n",
    "\n",
    "   auto coords = vtkm::cont::make_ArrayHandle(buff);\n",
    "  std::vector<int> ibuffc, ibuffn;\n",
    "\n",
    "  //vtkDataArray *conn = NULL, *nextNode = NULL;\n",
    "  // meshFile->ReadScalarData(\"/cell_set[0]/node_connect_list\", timestate, &conn);\n",
    "  // if (!meshFile->ReadScalarData(\"/nextnode\", timestate, &nextNode))\n",
    "  //     meshFile->ReadScalarData(\"nextnode\", timestate, &nextNode);\n",
    "  auto nodeConnectorVar = meshIO->InquireVariable<int>(\"/cell_set[0]/node_connect_list\");\n",
    "  auto nextNodeVar = meshIO->InquireVariable<int>(\"nextnode\");\n",
    "  if (!nodeConnectorVar || !nextNodeVar)\n",
    "      return vtkm::cont::DataSet();\n",
    "\n",
    "  meshReader->Get(nodeConnectorVar, ibuffc,adios2::Mode::Sync);\n",
    "  auto conn = vtkm::cont::make_ArrayHandle(ibuffc);\n",
    "\n",
    "  meshReader->Get(nextNodeVar, ibuffn, adios2::Mode::Sync);\n",
    "  if (ibuffn.size() < 1)\n",
    "      return vtkm::cont::DataSet();\n",
    "\n",
    "  auto nextNode = vtkm::cont::make_ArrayHandle(ibuffn);\n",
    "  //Create the points.\n",
    "\n",
    "     int numPlanes = numPhi;\n",
    "    float dPhi =  2.0*M_PI/(float)(numPlanes);\n",
    "\n",
    "    points.Allocate(numNodes * numPlanes);\n",
    "\n",
    "    auto pointsPortal = points.GetPortalControl();\n",
    "    auto coordsPortal = coords.GetPortalConstControl();\n",
    "    for (int i = 0; i < numPlanes; i++)\n",
    "    {\n",
    "        float phi = (float)i * dPhi;\n",
    "        for (int p = 0; p < numNodes; p++)\n",
    "        {\n",
    "            float R = coordsPortal.Get(p*2 +0);\n",
    "            float Z = coordsPortal.Get(p*2 +1);\n",
    "            \n",
    "            vtkm::Vec<float,3> pt;\n",
    "            pt[0] = R*cos(phi);\n",
    "            pt[1] = R*sin(phi);\n",
    "            pt[2] = Z;\n",
    "            pointsPortal.Set(p+i*numNodes, pt);\n",
    "        }\n",
    "    }\n",
    "\n",
    "    vtkm::Id numCells = (numPlanes)*numTris;\n",
    "\n",
    "    wedgeConn.Allocate(numCells*6);\n",
    "    auto wedgeConnPortal = wedgeConn.GetPortalControl();\n",
    "    auto connPortal = conn.GetPortalConstControl();\n",
    "    vtkm::Id j = 0;\n",
    "    for (int i = 0; i < numPlanes-1; i++)\n",
    "    {\n",
    "        for (int p = 0; p < numTris*3; p+=3)\n",
    "        {\n",
    "            vtkm::Id off = i*numNodes;\n",
    "            vtkm::Id p0 = connPortal.Get(p+0);\n",
    "            vtkm::Id p1 = connPortal.Get(p+1);\n",
    "            vtkm::Id p2 = connPortal.Get(p+2);\n",
    "            wedgeConnPortal.Set(j+0, p0+off);\n",
    "            wedgeConnPortal.Set(j+1, p1+off);\n",
    "            wedgeConnPortal.Set(j+2, p2+off);\n",
    "            \n",
    "            off = (i+1) * numNodes;\n",
    "            vtkm::Id p3 = p0+off;\n",
    "            vtkm::Id p4 = p1+off;\n",
    "            vtkm::Id p5 = p2+off;\n",
    "            wedgeConnPortal.Set(j+3, p3);\n",
    "            wedgeConnPortal.Set(j+4, p4);\n",
    "            wedgeConnPortal.Set(j+5, p5);\n",
    "            j += 6;\n",
    "        }\n",
    "    }\n",
    "    \n",
    "    int i = numPlanes - 1;\n",
    "    for (int p = 0; p < numTris*3; p+=3)\n",
    "        {\n",
    "            vtkm::Id p0 = connPortal.Get(p+0);\n",
    "            vtkm::Id p1 = connPortal.Get(p+1);\n",
    "            vtkm::Id p2 = connPortal.Get(p+2);\n",
    "        \n",
    "            vtkm::Id p3 = p0;\n",
    "            vtkm::Id p4 = p1;\n",
    "            vtkm::Id p5 = p2;\n",
    "            vtkm::Id off = i * numNodes;\n",
    "            wedgeConnPortal.Set(j+0, p0 + off);\n",
    "            wedgeConnPortal.Set(j+1, p1 + off);\n",
    "            wedgeConnPortal.Set(j+2, p2 + off);\n",
    "            wedgeConnPortal.Set(j+3, p3);\n",
    "            wedgeConnPortal.Set(j+4, p4);\n",
    "            wedgeConnPortal.Set(j+5, p5);\n",
    "            j += 6;\n",
    "        }\n",
    "    vtkm::cont::DataSetBuilderExplicit builder;\n",
    "    vtkm::cont::DataSet ds;\n",
    "    ds = builder.Create(points, vtkm::CellShapeTagWedge(), 6, wedgeConn);\n",
    "\n",
    "    return ds;\n",
    "\n",
    "}"
   ]
  },
  {
   "cell_type": "code",
   "execution_count": 6,
   "metadata": {
    "slideshow": {
     "slide_type": "subslide"
    }
   },
   "outputs": [],
   "source": [
    "vtkm::cont::DataSet \n",
    "readValues()\n",
    "{\n",
    "    vtkm::cont::DataSetBuilderExplicit builder;\n",
    "    vtkm::cont::DataSet ds;\n",
    "    ds = builder.Create(points, vtkm::CellShapeTagWedge(), 6, wedgeConn);\n",
    "\n",
    "    auto var = fileIO->InquireVariable<double>(\"dpot\");\n",
    "    std::vector<double> buff;\n",
    "    fileReader->Get(var, buff,adios2::Mode::Sync);\n",
    "    auto dpot = vtkm::cont::make_ArrayHandle(buff);\n",
    "\n",
    "    ds.AddField(vtkm::cont::Field(\"pointvar\", vtkm::cont::Field::Association::POINTS,\n",
    "                                 buff.size(),\n",
    "                                 dpot));\n",
    "    \n",
    "    return ds;\n",
    "}"
   ]
  },
  {
   "cell_type": "code",
   "execution_count": 7,
   "metadata": {
    "slideshow": {
     "slide_type": "subslide"
    }
   },
   "outputs": [],
   "source": [
    "void openADIOS()\n",
    "{\n",
    "\n",
    "    adios = std::make_unique<adios2::ADIOS>(MPI_COMM_WORLD);\n",
    "    mesh = std::make_unique<adios2::ADIOS>(MPI_COMM_WORLD);\n",
    "    \n",
    "    std::string filename(\"/home/adios/adiosvm/Tutorial/xgc/totalf_itg_tiny/xgc.3d.bp\");\n",
    "    fileIO = std::make_unique<adios2::IO>(adios->DeclareIO(\"SST\"));\n",
    "    fileIO->SetEngine(\"SST\");\n",
    "    meshIO = std::make_unique<adios2::IO>(mesh->DeclareIO(\"BP\"));\n",
    "    meshIO->SetEngine(\"BP\");    \n",
    "    \n",
    "    \n",
    "    fileReader = std::make_unique<adios2::Engine>(fileIO->Open(filename, adios2::Mode::Read));\n",
    "\n",
    "    std::cout<<\"Open \"<<filename<<std::endl;\n",
    "    std::cout<<__FILE__<<\" \"<<__LINE__<<std::endl;\n",
    "}"
   ]
  },
  {
   "cell_type": "code",
   "execution_count": 8,
   "metadata": {
    "slideshow": {
     "slide_type": "subslide"
    }
   },
   "outputs": [],
   "source": [
    "void printVars()\n",
    "{\n",
    "    const auto variables = fileIO->AvailableVariables();\n",
    "    std::cout << variables.size() << std::endl;\n",
    "    \n",
    "      for (const auto variablePair : variables)\n",
    "      {\n",
    "          std::cout << \"Name: \" << variablePair.first;\n",
    "\n",
    "          for (const auto &parameter : variablePair.second)\n",
    "          {\n",
    "              std::cout << \"\\t\" << parameter.first << \": \" << parameter.second\n",
    "                          << \"\\n\";\n",
    "          }\n",
    "      }\n",
    "}"
   ]
  },
  {
   "cell_type": "code",
   "execution_count": 9,
   "metadata": {
    "slideshow": {
     "slide_type": "slide"
    }
   },
   "outputs": [],
   "source": [
    "void display()\n",
    "{\n",
    "        vtkm::cont::DataSet ds;\n",
    "    initializeReaders(\"/home/adios/adiosvm/Tutorial/xgc/totalf_itg_tiny/xgc.mesh.bp\");\n",
    "    if (fileReader->BeginStep() == adios2::StepStatus::OK){\n",
    "        ds = readMesh(meshIO, meshReader);        \n",
    "        fileReader->EndStep();\n",
    "    }\n",
    "    try{\n",
    "        while(fileReader->BeginStep() ==adios2::StepStatus::OK && running){\n",
    "            ds = readValues();\n",
    "            std::string fieldNm(\"pointvar\");\n",
    "            vtkm::rendering::CanvasRayTracer canvas(512,512);\n",
    "            renderer->Display(ds, canvas, fieldNm);\n",
    "            fileReader->EndStep();\n",
    "        }    \n",
    "        fileReader->Close();\n",
    "        MPI_Finalize();\n",
    "    }\n",
    "    catch(int e){\n",
    "        fileReader->EndStep();\n",
    "        fileReader->Close();\n",
    "        MPI_Finalize();\n",
    "    }\n",
    "\n",
    "}"
   ]
  },
  {
   "cell_type": "code",
   "execution_count": null,
   "metadata": {
    "scrolled": false,
    "slideshow": {
     "slide_type": "slide"
    }
   },
   "outputs": [],
   "source": [
    "// [](){auto try_and_err = []() {\n",
    "    \n",
    "//     renderer = std::make_unique<VTKmXeusRender>();\n",
    "//     MPI_Init(NULL,NULL);\n",
    "//     openADIOS();\n",
    "//     printVars();\n",
    "//     display();\n",
    "    \n",
    "// };try_and_err();}();"
   ]
  },
  {
   "cell_type": "code",
   "execution_count": null,
   "metadata": {
    "deletable": false,
    "editable": false,
    "run_control": {
     "frozen": true
    },
    "slideshow": {
     "slide_type": "subslide"
    }
   },
   "outputs": [],
   "source": [
    "[](){auto try_and_err = []() {\n",
    "    renderer = std::make_unique<VTKmXeusRender>();\n",
    "    MPI_Init(NULL,NULL);\n",
    "    openADIOS();\n",
    "    printVars();\n",
    "    display();\n",
    "}; try_and_err(); }();"
   ]
  },
  {
   "cell_type": "code",
   "execution_count": null,
   "metadata": {},
   "outputs": [],
   "source": []
  }
 ],
 "metadata": {
  "celltoolbar": "Slideshow",
  "kernelspec": {
   "display_name": "C++17",
   "language": "C++17",
   "name": "xeus-cling-cpp17"
  },
  "language_info": {
   "codemirror_mode": "text/x-c++src",
   "file_extension": ".cpp",
   "mimetype": "text/x-c++src",
   "name": "c++",
   "version": "-std=c++17"
  }
 },
 "nbformat": 4,
 "nbformat_minor": 2
}
