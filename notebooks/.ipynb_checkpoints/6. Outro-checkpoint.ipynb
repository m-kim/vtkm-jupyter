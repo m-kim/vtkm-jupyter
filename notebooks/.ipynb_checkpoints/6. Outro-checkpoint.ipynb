{
 "cells": [
  {
   "cell_type": "markdown",
   "metadata": {
    "slideshow": {
     "slide_type": "slide"
    }
   },
   "source": [
    "* VTK-m with Jupyter Notebook needs...\n",
    "    * Cling\n",
    "    * Xeus\n",
    "    * pnm to png converter"
   ]
  },
  {
   "cell_type": "markdown",
   "metadata": {
    "slideshow": {
     "slide_type": "slide"
    }
   },
   "source": [
    "* Pluses\n",
    "    * Jupyter is a common environment\n",
    "        * It runs on many platforms.\n",
    "        * It runs a lot of languages.\n",
    "    * It can run \"remotely\"\n",
    "    * Lots of code in C++ can now be run through Jupyter Notebook.\n",
    "        * Why not use it directly?\n",
    "    * Quick prototyping.\n",
    "    * Can give interactive demos. \n",
    "    * Can load it on other people's servers.\n",
    "        * I used conda.\n",
    "            * For instance, there's a vtk-m recipe: https://github.com/m-kim/vtkm-recipe\n",
    "        * https://mybinder.org/v2/gh/m-kim/vtkm-jupyter/doecgf-demo-apr-2019?filepath=notebooks\n",
    "            * Only the first three demos, though."
   ]
  },
  {
   "cell_type": "markdown",
   "metadata": {
    "slideshow": {
     "slide_type": "subslide"
    }
   },
   "source": [
    "* Negatives\n",
    "    * ~~Jupyter is a common environment~~ Last I checked, OLCF doesn't have it.\n",
    "        * ~~It runs on many platforms.~~  See above.\n",
    "        * ~~It can run \"remotely\"~~ See above.\n",
    "    * ~~Lots of code in C++ can now be run through Jupyter Notebook.~~ Lots of workarounds (show stoppers?)\n",
    "        * ~~Why not use it directly?~~ std::unique_ptr, lambda functions to help it \"loop\"\n",
    "    * ~~Quick prototyping.~~ No debugging.\n",
    "    * ~~Can give interactive demos.~~ Yah?\n",
    "    * Currently, can't run python and C++ kernels at the same time.\n",
    "        * That's where \"the scientists\" are(?)"
   ]
  },
  {
   "cell_type": "markdown",
   "metadata": {
    "slideshow": {
     "slide_type": "slide"
    }
   },
   "source": [
    "# Thank you.\n"
   ]
  }
 ],
 "metadata": {
  "celltoolbar": "Slideshow",
  "kernelspec": {
   "display_name": "C++17",
   "language": "C++17",
   "name": "xeus-cling-cpp17"
  },
  "language_info": {
   "codemirror_mode": "text/x-c++src",
   "file_extension": ".cpp",
   "mimetype": "text/x-c++src",
   "name": "c++",
   "version": "-std=c++17"
  }
 },
 "nbformat": 4,
 "nbformat_minor": 2
}
