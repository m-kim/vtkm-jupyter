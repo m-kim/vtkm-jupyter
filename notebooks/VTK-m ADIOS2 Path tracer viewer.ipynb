{
 "cells": [
  {
   "cell_type": "code",
   "execution_count": 1,
   "metadata": {
    "slideshow": {
     "slide_type": "slide"
    }
   },
   "outputs": [],
   "source": [
    "#include <lodepng_config_cling.h>\n",
    "#include <vtkm_config_cling.h>\n",
    "#include <iostream>\n",
    "#include <string>\n",
    "#include <VTKmXeusRender.h>\n",
    "#include <adios2.h>\n",
    "\n",
    "#pragma cling load(\"adios2\")"
   ]
  },
  {
   "cell_type": "code",
   "execution_count": 2,
   "metadata": {
    "slideshow": {
     "slide_type": "slide"
    }
   },
   "outputs": [],
   "source": [
    "#include <vtkm/cont/testing/MakeTestDataSet.h>\n",
    "std::unique_ptr<VTKmXeusRender> renderer;\n"
   ]
  },
  {
   "cell_type": "code",
   "execution_count": 3,
   "metadata": {
    "slideshow": {
     "slide_type": "slide"
    }
   },
   "outputs": [],
   "source": [
    "\n",
    "bool running = true;"
   ]
  },
  {
   "cell_type": "code",
   "execution_count": 4,
   "metadata": {
    "slideshow": {
     "slide_type": "slide"
    }
   },
   "outputs": [],
   "source": [
    "void display(std::string fn, std::string vn, int nx, int ny)\n",
    "{\n",
    "    std::stringstream filename;\n",
    "    filename << \"/home/ybk/Projects/raytracingtherestofyourlife/build/debug/\";\n",
    "    filename << fn;\n",
    "    /** ADIOS class factory of IO class objects, DebugON is recommended */\n",
    "    adios2::ADIOS adios(adios2::DebugON);\n",
    "\n",
    "    /*** IO class object: settings and factory of Settings: Variables,\n",
    "     * Parameters, Transports, and Execution: Engines */\n",
    "    adios2::IO bpIO = adios.DeclareIO(\"ReadBP\");\n",
    "\n",
    "    /** Engine derived class, spawned to start IO operations */\n",
    "    adios2::Engine bpReader = bpIO.Open(filename.str(), adios2::Mode::Read);\n",
    "\n",
    "    /** Write variable for buffering */\n",
    "    adios2::Variable<float> bpFloats =\n",
    "    bpIO.InquireVariable<float>(vn);\n",
    "\n",
    "\n",
    "    if (bpFloats)\n",
    "    {\n",
    "        \n",
    "        std::vector<float> depthBuffer;\n",
    "        std::vector<vtkm::Vec<vtkm::Float32,4>> useful;\n",
    "        useful.resize(nx*ny);\n",
    "        bpReader.Get<float>(bpFloats, depthBuffer, adios2::Mode::Sync);\n",
    "        std::cout << \"Float vector inside \" << filename.str() << \": {\" << depthBuffer.size() << \" \";\n",
    "        std::cout << useful.size() << \"}\";\n",
    "  \n",
    "         for (int i=0; i<useful.size(); i++)\n",
    "        {\n",
    "            //std::cout << x << \", \";\n",
    "            auto &uf = useful[i];\n",
    "            uf[0] = depthBuffer[i*4];\n",
    "            uf[1] = depthBuffer[i*4+1];\n",
    "            uf[2] = depthBuffer[i*4+2];\n",
    "            uf[3] = 0;\n",
    "            \n",
    "        }\n",
    "        std::cout << \"}\\n\";\n",
    "        vtkm::cont::ArrayHandle arr = vtkm::cont::make_ArrayHandle(useful);\n",
    "        renderer = std::make_unique<VTKmXeusRender>();\n",
    "        renderer->Display(arr, nx,ny);\n",
    "    }\n",
    "}"
   ]
  },
  {
   "cell_type": "code",
   "execution_count": 5,
   "metadata": {
    "scrolled": false,
    "slideshow": {
     "slide_type": "slide"
    }
   },
   "outputs": [
    {
     "data": {
      "image/png": "[encoded data removed]"
     },
     "metadata": {},
     "output_type": "display_data"
    },
    {
     "name": "stdout",
     "output_type": "stream",
     "text": [
      "Float vector inside /home/ybk/Projects/raytracingtherestofyourlife/build/debug/albedo: {262144 65536}}\n"
     ]
    }
   ],
   "source": [
    "[](){auto try_and_err = []() {\n",
    "    \n",
    "    renderer = std::make_unique<VTKmXeusRender>();\n",
    "    display(\"albedo\", \"0.785398-0\", 256, 256);\n",
    "    \n",
    "};try_and_err();}();"
   ]
  },
  {
   "cell_type": "code",
   "execution_count": null,
   "metadata": {},
   "outputs": [],
   "source": []
  }
 ],
 "metadata": {
  "celltoolbar": "Slideshow",
  "kernelspec": {
   "display_name": "C++17",
   "language": "C++17",
   "name": "xcpp17"
  },
  "language_info": {
   "codemirror_mode": "text/x-c++src",
   "file_extension": ".cpp",
   "mimetype": "text/x-c++src",
   "name": "c++",
   "version": "-std=c++17"
  }
 },
 "nbformat": 4,
 "nbformat_minor": 2
}
