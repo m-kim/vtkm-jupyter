{
 "cells": [
  {
   "cell_type": "code",
   "execution_count": 1,
   "metadata": {
    "slideshow": {
     "slide_type": "slide"
    }
   },
   "outputs": [],
   "source": [
    "#include <lodepng_config_cling.h>\n",
    "#include <vtkm_config_cling.h>\n",
    "#include <iostream>\n",
    "#include <string>\n",
    "#include <VTKmXeusRender.h>\n",
    "#include <adios2.h>\n",
    "\n",
    "#pragma cling load(\"adios2\")"
   ]
  },
  {
   "cell_type": "code",
   "execution_count": 2,
   "metadata": {
    "slideshow": {
     "slide_type": "slide"
    }
   },
   "outputs": [],
   "source": [
    "#include <vtkm/cont/testing/MakeTestDataSet.h>\n",
    "std::unique_ptr<VTKmXeusRender> renderer;\n",
    "adios2::ADIOS adios(adios2::DebugON);\n",
    "adios2::IO bpIO;\n",
    "adios2::Engine bpReader;\n",
    "bool adiosOpen = false;\n"
   ]
  },
  {
   "cell_type": "code",
   "execution_count": 3,
   "metadata": {
    "slideshow": {
     "slide_type": "slide"
    }
   },
   "outputs": [],
   "source": [
    "\n",
    "auto open(std::string fn, std::string vn)\n",
    "{\n",
    "    \n",
    "    if (!adiosOpen){\n",
    "\n",
    "            /** ADIOS class factory of IO class objects, DebugON is recommended */\n",
    "\n",
    "        /*** IO class object: settings and factory of Settings: Variables,\n",
    "         * Parameters, Transports, and Execution: Engines */\n",
    "        bpIO = adios.DeclareIO(\"ReadBP\");        \n",
    "\n",
    "        std::stringstream filename;\n",
    "        filename << \"/home/ybk/Projects/raytracingtherestofyourlife/build/debug/\";\n",
    "        filename << fn;\n",
    "        /** Engine derived class, spawned to start IO operations */\n",
    "        bpReader = bpIO.Open(filename.str(), adios2::Mode::Read);\n",
    "\n",
    "        adiosOpen = true;\n",
    "    }\n",
    "    \n",
    "\n",
    "    /** Write variable for buffering */\n",
    "    adios2::Variable<float> bpFloats =\n",
    "    bpIO.InquireVariable<float>(vn);\n",
    "    \n",
    "    return std::make_tuple(bpReader, bpFloats);\n",
    "}"
   ]
  },
  {
   "cell_type": "code",
   "execution_count": 4,
   "metadata": {},
   "outputs": [],
   "source": [
    "void queryVariables()\n",
    "{\n",
    "    const auto variables = bpIO.AvailableVariables();\n",
    "    std::cout << variables.size() << std::endl;\n",
    "    for (const auto variablePair : variables)\n",
    "    {\n",
    "         std::cout << \"Name: \" << variablePair.first;\n",
    "//           for (const auto &parameter : variablePair.second)\n",
    "//           {\n",
    "              \n",
    "//               std::cout << \"\\t\" << parameter.first << \": \" << parameter.second\n",
    "//                           << \"\\n\";\n",
    "//           }\n",
    "        std::cout << std::endl;\n",
    "    }\n",
    "}\n"
   ]
  },
  {
   "cell_type": "code",
   "execution_count": 5,
   "metadata": {
    "slideshow": {
     "slide_type": "slide"
    }
   },
   "outputs": [],
   "source": [
    "void display(std::tuple<adios2::Engine,adios2::Variable<float>> tup, int nx, int ny)\n",
    "{\n",
    "    adios2::Engine bpReader;\n",
    "    adios2::Variable<float> bpFloats;\n",
    "    \n",
    "    std::tie(bpReader, bpFloats) = tup;\n",
    "\n",
    "    if (bpFloats)\n",
    "    {\n",
    "        \n",
    "        std::vector<float> depthBuffer;\n",
    "        std::vector<vtkm::Vec<vtkm::Float32,4>> useful;\n",
    "        useful.resize(nx*ny);\n",
    "        bpReader.Get<float>(bpFloats, depthBuffer, adios2::Mode::Sync);\n",
    "  \n",
    "         for (int i=0; i<useful.size(); i++)\n",
    "        {\n",
    "            //std::cout << x << \", \";\n",
    "            auto &uf = useful[i];\n",
    "            uf[0] = depthBuffer[i*4];\n",
    "            uf[1] = depthBuffer[i*4+1];\n",
    "            uf[2] = depthBuffer[i*4+2];\n",
    "            uf[3] = 0;\n",
    "            \n",
    "        }\n",
    "        vtkm::cont::ArrayHandle arr = vtkm::cont::make_ArrayHandle(useful);\n",
    "        renderer->Display(arr, nx,ny);\n",
    "    }\n",
    "}"
   ]
  },
  {
   "cell_type": "code",
   "execution_count": 6,
   "metadata": {
    "scrolled": false,
    "slideshow": {
     "slide_type": "slide"
    }
   },
   "outputs": [],
   "source": [
    "[](){auto try_and_err = []() {\n",
    "    \n",
    "    renderer = std::make_unique<VTKmXeusRender>();\n",
    "    //auto tup = open(\"outputs\", \"0.2000-4.7124\");\n",
    "    //display(\"output\", \"output\", 128, 128);\n",
    "    \n",
    "};try_and_err();}();"
   ]
  },
  {
   "cell_type": "code",
   "execution_count": 7,
   "metadata": {},
   "outputs": [
    {
     "name": "stdout",
     "output_type": "stream",
     "text": [
      "660\n"
     ]
    },
    {
     "data": {
      "image/png": "[encoded data removed]"
     },
     "metadata": {},
     "output_type": "display_data"
    }
   ],
   "source": [
    "[](){auto try_and_err = []() {\n",
    "    //std::string varname(\"normals\");\n",
    "    //std::string varname(\"albedo\");\n",
    "    std::string varname(\"direct\");\n",
    "    renderer = std::make_unique<VTKmXeusRender>();\n",
    "    auto tup = open(varname, \"\");\n",
    "    \n",
    "    const auto variables = bpIO.AvailableVariables();\n",
    "    std::cout << variables.size() << std::endl;\n",
    "    for (const auto variablePair : variables)\n",
    "    {\n",
    "        auto tup = open(varname, variablePair.first);\n",
    "        display(tup, 128, 128);\n",
    "    }\n",
    "    \n",
    "};try_and_err();}();"
   ]
  },
  {
   "cell_type": "code",
   "execution_count": null,
   "metadata": {},
   "outputs": [],
   "source": []
  }
 ],
 "metadata": {
  "celltoolbar": "Slideshow",
  "kernelspec": {
   "display_name": "C++17",
   "language": "C++17",
   "name": "xcpp17"
  },
  "language_info": {
   "codemirror_mode": "text/x-c++src",
   "file_extension": ".cpp",
   "mimetype": "text/x-c++src",
   "name": "c++",
   "version": "-std=c++17"
  }
 },
 "nbformat": 4,
 "nbformat_minor": 2
}
