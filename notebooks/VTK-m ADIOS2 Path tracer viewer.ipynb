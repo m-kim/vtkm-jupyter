{
 "cells": [
  {
   "cell_type": "code",
   "execution_count": 1,
   "metadata": {
    "slideshow": {
     "slide_type": "slide"
    }
   },
   "outputs": [],
   "source": [
    "#include <lodepng_config_cling.h>\n",
    "#include <vtkm_config_cling.h>\n",
    "#include <iostream>\n",
    "#include <string>\n",
    "#include <VTKmXeusRender.h>\n",
    "#include <adios2.h>\n",
    "\n",
    "#pragma cling load(\"adios2\")"
   ]
  },
  {
   "cell_type": "code",
   "execution_count": 2,
   "metadata": {
    "slideshow": {
     "slide_type": "slide"
    }
   },
   "outputs": [],
   "source": [
    "#include <vtkm/cont/testing/MakeTestDataSet.h>\n",
    "std::unique_ptr<VTKmXeusRender> renderer;\n"
   ]
  },
  {
   "cell_type": "code",
   "execution_count": 3,
   "metadata": {
    "slideshow": {
     "slide_type": "slide"
    }
   },
   "outputs": [],
   "source": [
    "\n",
    "bool running = true;"
   ]
  },
  {
   "cell_type": "code",
   "execution_count": 4,
   "metadata": {
    "slideshow": {
     "slide_type": "slide"
    }
   },
   "outputs": [],
   "source": [
    "void display()\n",
    "{\n",
    "    std::string filename(\"/home/mark/Projects/raytracingtherestofyourlife/build/debug/direct.bp\");\n",
    "    /** ADIOS class factory of IO class objects, DebugON is recommended */\n",
    "    adios2::ADIOS adios(adios2::DebugON);\n",
    "\n",
    "    /*** IO class object: settings and factory of Settings: Variables,\n",
    "     * Parameters, Transports, and Execution: Engines */\n",
    "    adios2::IO bpIO = adios.DeclareIO(\"ReadBP\");\n",
    "\n",
    "    /** Engine derived class, spawned to start IO operations */\n",
    "    adios2::Engine bpReader = bpIO.Open(filename, adios2::Mode::Read);\n",
    "\n",
    "    /** Write variable for buffering */\n",
    "    adios2::Variable<float> bpFloats =\n",
    "    bpIO.InquireVariable<float>(\"pnms\");\n",
    "\n",
    "\n",
    "    if (bpFloats)\n",
    "    {\n",
    "        constexpr int nx = 128;\n",
    "        constexpr int ny = 128;\n",
    "        \n",
    "        std::vector<float> depthBuffer;\n",
    "        std::vector<vtkm::Vec<vtkm::Float32,4>> useful(nx*ny);\n",
    "        bpReader.Get<float>(bpFloats, depthBuffer, adios2::Mode::Sync);\n",
    "        std::cout << \"Float vector inside \" << filename << \": {\" << depthBuffer.size() << \"}\";\n",
    "        \n",
    "         for (int i=0; i<useful.size(); i++){\n",
    "        {\n",
    "            //std::cout << x << \", \";\n",
    "            useful[i][0] = depthBuffer[i*4];\n",
    "            useful[i][1] = depthBuffer[i*4+1];\n",
    "            useful[i][2] = depthBuffer[i*4+2];\n",
    "            useful[i][3] = 0;\n",
    "            \n",
    "        }\n",
    "        std::cout << \"}\\n\";\n",
    "        vtkm::cont::ArrayHandle arr = vtkm::cont::make_ArrayHandle(useful);\n",
    "        renderer = std::make_unique<VTKmXeusRender>();\n",
    "        renderer->Display(arr, nx,ny);\n",
    "    }\n",
    "}"
   ]
  },
  {
   "cell_type": "code",
   "execution_count": 5,
   "metadata": {
    "scrolled": false,
    "slideshow": {
     "slide_type": "slide"
    }
   },
   "outputs": [
    {
     "name": "stderr",
     "output_type": "stream",
     "text": [
      "IncrementalExecutor::executeFunction: symbol '_Z13convertBufferIfEvRSt6vectorIhSaIhEEiiiiRT_' unresolved while linking [cling interface function]!\n",
      "You are probably missing the definition of void convertBuffer<float>(std::vector<unsigned char, std::allocator<unsigned char> >&, int, int, int, int, float&)\n",
      "Maybe you need to load the corresponding shared library?\n"
     ]
    }
   ],
   "source": [
    "[](){auto try_and_err = []() {\n",
    "    \n",
    "    renderer = std::make_unique<VTKmXeusRender>();\n",
    "    display();\n",
    "    \n",
    "};try_and_err();}();"
   ]
  },
  {
   "cell_type": "code",
   "execution_count": null,
   "metadata": {},
   "outputs": [],
   "source": []
  }
 ],
 "metadata": {
  "celltoolbar": "Slideshow",
  "kernelspec": {
   "display_name": "C++17",
   "language": "C++17",
   "name": "xcpp17"
  },
  "language_info": {
   "codemirror_mode": "text/x-c++src",
   "file_extension": ".cpp",
   "mimetype": "text/x-c++src",
   "name": "c++",
   "version": "-std=c++17"
  }
 },
 "nbformat": 4,
 "nbformat_minor": 2
}
