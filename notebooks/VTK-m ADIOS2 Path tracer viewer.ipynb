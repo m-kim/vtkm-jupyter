{
 "cells": [
  {
   "cell_type": "code",
   "execution_count": 1,
   "metadata": {
    "slideshow": {
     "slide_type": "slide"
    }
   },
   "outputs": [],
   "source": [
    "#include <lodepng_config_cling.h>\n",
    "#include <vtkm_config_cling.h>\n",
    "#include <iostream>\n",
    "#include <string>\n",
    "#include <VTKmXeusRender.h>\n",
    "#include <adios2.h>\n",
    "\n",
    "#pragma cling load(\"adios2\")"
   ]
  },
  {
   "cell_type": "code",
   "execution_count": 2,
   "metadata": {
    "slideshow": {
     "slide_type": "slide"
    }
   },
   "outputs": [],
   "source": [
    "#include <vtkm/cont/testing/MakeTestDataSet.h>\n",
    "std::unique_ptr<VTKmXeusRender> renderer;\n"
   ]
  },
  {
   "cell_type": "code",
   "execution_count": 3,
   "metadata": {
    "slideshow": {
     "slide_type": "slide"
    }
   },
   "outputs": [],
   "source": [
    "\n",
    "bool running = true;"
   ]
  },
  {
   "cell_type": "code",
   "execution_count": 4,
   "metadata": {
    "slideshow": {
     "slide_type": "slide"
    }
   },
   "outputs": [],
   "source": [
    "void display()\n",
    "{\n",
    "    std::string filename(\"/home/mark/Projects/raytracingtherestofyourlife/build/debug/depth.bp\");\n",
    "    /** ADIOS class factory of IO class objects, DebugON is recommended */\n",
    "    adios2::ADIOS adios(adios2::DebugON);\n",
    "\n",
    "    /*** IO class object: settings and factory of Settings: Variables,\n",
    "     * Parameters, Transports, and Execution: Engines */\n",
    "    adios2::IO bpIO = adios.DeclareIO(\"ReadBP\");\n",
    "\n",
    "    /** Engine derived class, spawned to start IO operations */\n",
    "    adios2::Engine bpReader = bpIO.Open(filename, adios2::Mode::Read);\n",
    "\n",
    "    /** Write variable for buffering */\n",
    "    adios2::Variable<float> bpFloats =\n",
    "    bpIO.InquireVariable<float>(\"pnms\");\n",
    "\n",
    "\n",
    "    if (bpFloats)\n",
    "    {\n",
    "        constexpr int nx = 128;\n",
    "        constexpr int ny = 128;\n",
    "        \n",
    "        std::vector<float> depthBuffer;\n",
    "        std::vector<vtkm::Int32> useful(nx*ny);\n",
    "        bpReader.Get<float>(bpFloats, depthBuffer, adios2::Mode::Sync);\n",
    "        std::cout << \"Float vector inside \" << filename << \": {\";\n",
    "        \n",
    "        int i=0;\n",
    "        for (auto &x : depthBuffer)\n",
    "        {\n",
    "            //std::cout << x << \", \";\n",
    "            useful[i++] = static_cast<vtkm::Int32>(255.99*x);\n",
    "            \n",
    "        }\n",
    "        std::cout << \"}\\n\";\n",
    "        vtkm::cont::ArrayHandle arr = vtkm::cont::make_ArrayHandle(useful);\n",
    "        renderer = std::make_unique<VTKmXeusRender>();\n",
    "        renderer->Display(arr, nx,ny);\n",
    "    }\n",
    "}"
   ]
  },
  {
   "cell_type": "code",
   "execution_count": 5,
   "metadata": {
    "scrolled": false,
    "slideshow": {
     "slide_type": "slide"
    }
   },
   "outputs": [
    {
     "data": {
      "image/png": "[encoded data removed]"
     },
     "metadata": {},
     "output_type": "display_data"
    },
    {
     "name": "stdout",
     "output_type": "stream",
     "text": [
      "Float vector inside /home/mark/Projects/raytracingtherestofyourlife/build/debug/depth.bp: {}\n"
     ]
    }
   ],
   "source": [
    "[](){auto try_and_err = []() {\n",
    "    \n",
    "    renderer = std::make_unique<VTKmXeusRender>();\n",
    "    display();\n",
    "    \n",
    "};try_and_err();}();"
   ]
  },
  {
   "cell_type": "code",
   "execution_count": null,
   "metadata": {},
   "outputs": [],
   "source": []
  }
 ],
 "metadata": {
  "celltoolbar": "Slideshow",
  "kernelspec": {
   "display_name": "C++17",
   "language": "C++17",
   "name": "xcpp17"
  },
  "language_info": {
   "codemirror_mode": "text/x-c++src",
   "file_extension": ".cpp",
   "mimetype": "text/x-c++src",
   "name": "c++",
   "version": "-std=c++17"
  }
 },
 "nbformat": 4,
 "nbformat_minor": 2
}
